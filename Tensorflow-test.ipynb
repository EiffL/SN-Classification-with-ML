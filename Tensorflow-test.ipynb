{
 "cells": [
  {
   "cell_type": "code",
   "execution_count": 2,
   "metadata": {},
   "outputs": [
    {
     "name": "stdout",
     "output_type": "stream",
     "text": [
      "Populating the interactive namespace from numpy and matplotlib\n"
     ]
    }
   ],
   "source": [
    "%pylab inline\n",
    "from astropy.table import Table\n",
    "from rnn import RNNClassifier\n",
    "import tensorflow as tf"
   ]
  },
  {
   "cell_type": "code",
   "execution_count": 3,
   "metadata": {},
   "outputs": [],
   "source": [
    "# Loading dataset\n",
    "data_table = Table.read('normalized_no_clip.fits')"
   ]
  },
  {
   "cell_type": "code",
   "execution_count": 4,
   "metadata": {},
   "outputs": [],
   "source": [
    "# Splitting training and testing data\n",
    "randomize_inds = range(len(data_table))\n",
    "randomize_inds = permutation(randomize_inds)\n",
    "randomized_inds_train = randomize_inds[0:15000]\n",
    "randomized_inds_test  = randomize_inds[15000:]"
   ]
  },
  {
   "cell_type": "code",
   "execution_count": 9,
   "metadata": {},
   "outputs": [
    {
     "data": {
      "text/plain": [
       "array([16469, 14620,  8013, ...,  5387, 13706,  1055])"
      ]
     },
     "execution_count": 9,
     "metadata": {},
     "output_type": "execute_result"
    }
   ],
   "source": [
    "randomized_inds_test"
   ]
  },
  {
   "cell_type": "code",
   "execution_count": 10,
   "metadata": {},
   "outputs": [
    {
     "data": {
      "text/plain": [
       "['FILENAME',\n",
       " 'SURVEY',\n",
       " 'SNID',\n",
       " 'SNTYPE',\n",
       " 'FILTERS',\n",
       " 'RA',\n",
       " 'DECL',\n",
       " 'FAKE',\n",
       " 'MWEBV',\n",
       " 'REDSHIFT_SPE',\n",
       " 'NOBS',\n",
       " 'NVAR',\n",
       " 'DATA',\n",
       " 'obs_length']"
      ]
     },
     "execution_count": 10,
     "metadata": {},
     "output_type": "execute_result"
    }
   ],
   "source": [
    "data_table.colnames"
   ]
  },
  {
   "cell_type": "code",
   "execution_count": 11,
   "metadata": {},
   "outputs": [
    {
     "data": {
      "text/html": [
       "<i>Table length=18347</i>\n",
       "<table id=\"table4814626152\" class=\"table-striped table-bordered table-condensed\">\n",
       "<thead><tr><th>FILENAME</th><th>SURVEY</th><th>SNID</th><th>SNTYPE</th><th>FILTERS</th><th>RA</th><th>DECL</th><th>FAKE</th><th>MWEBV</th><th>REDSHIFT_SPE</th><th>NOBS</th><th>NVAR</th><th>DATA [50,9]</th><th>obs_length</th></tr></thead>\n",
       "<thead><tr><th>bytes16</th><th>bytes7</th><th>bytes12</th><th>bytes5</th><th>bytes6</th><th>bytes21</th><th>bytes20</th><th>bytes35</th><th>bytes23</th><th>bytes25</th><th>bytes5</th><th>bytes3</th><th>float64</th><th>float64</th></tr></thead>\n",
       "<tr><td>DES_SN000018.DAT</td><td>DES</td><td>18</td><td>-9</td><td>griz</td><td>34.500000  deg</td><td>-5.500000  deg</td><td>3   (=&gt; BLIND-TEST simulation)</td><td>0.0227    MW E(B-V)</td><td>-9.0000 +-  9.0000</td><td>118</td><td>5</td><td>0.0 .. 0.0</td><td>0.8341289942655092</td></tr>\n",
       "<tr><td>DES_SN000050.DAT</td><td>DES</td><td>50</td><td>-9</td><td>griz</td><td>36.750000  deg</td><td>-4.500000  deg</td><td>3   (=&gt; BLIND-TEST simulation)</td><td>0.0283    MW E(B-V)</td><td>-9.0000 +-  9.0000</td><td>16</td><td>5</td><td>0.0 .. 0.0</td><td>0.17683683328855004</td></tr>\n",
       "<tr><td>DES_SN000051.DAT</td><td>DES</td><td>51</td><td>1</td><td>griz</td><td>52.500000  deg</td><td>-27.500000  deg</td><td>3   (=&gt; BLIND-TEST simulation)</td><td>0.0097    MW E(B-V)</td><td>0.5177 +-  0.0050</td><td>121</td><td>5</td><td>0.0 .. 0.0</td><td>0.7254312291675129</td></tr>\n",
       "<tr><td>DES_SN000063.DAT</td><td>DES</td><td>63</td><td>-9</td><td>griz</td><td>34.500000  deg</td><td>-5.500000  deg</td><td>3   (=&gt; BLIND-TEST simulation)</td><td>0.0227    MW E(B-V)</td><td>-9.0000 +-  9.0000</td><td>115</td><td>5</td><td>0.0 .. 0.0</td><td>0.731480158026834</td></tr>\n",
       "<tr><td>DES_SN000064.DAT</td><td>DES</td><td>64</td><td>-9</td><td>griz</td><td>48.000000  deg</td><td>0.000000  deg</td><td>3   (=&gt; BLIND-TEST simulation)</td><td>0.0713    MW E(B-V)</td><td>-9.0000 +-  9.0000</td><td>92</td><td>5</td><td>0.0 .. 0.0</td><td>0.6740610724556567</td></tr>\n",
       "<tr><td>DES_SN000096.DAT</td><td>DES</td><td>96</td><td>-9</td><td>griz</td><td>34.500000  deg</td><td>-5.500000  deg</td><td>3   (=&gt; BLIND-TEST simulation)</td><td>0.0227    MW E(B-V)</td><td>-9.0000 +-  9.0000</td><td>104</td><td>5</td><td>0.0 .. 0.0</td><td>0.6853870914257367</td></tr>\n",
       "<tr><td>DES_SN000122.DAT</td><td>DES</td><td>122</td><td>-9</td><td>griz</td><td>34.500000  deg</td><td>-5.500000  deg</td><td>3   (=&gt; BLIND-TEST simulation)</td><td>0.0227    MW E(B-V)</td><td>-9.0000 +-  9.0000</td><td>11</td><td>5</td><td>0.0 .. 0.0</td><td>0.10264311891463129</td></tr>\n",
       "<tr><td>DES_SN000124.DAT</td><td>DES</td><td>124</td><td>-9</td><td>griz</td><td>48.000000  deg</td><td>0.000000  deg</td><td>3   (=&gt; BLIND-TEST simulation)</td><td>0.0713    MW E(B-V)</td><td>-9.0000 +-  9.0000</td><td>95</td><td>5</td><td>0.0 .. 0.0</td><td>0.6515748369133555</td></tr>\n",
       "<tr><td>DES_SN000156.DAT</td><td>DES</td><td>156</td><td>-9</td><td>griz</td><td>36.750000  deg</td><td>-4.500000  deg</td><td>3   (=&gt; BLIND-TEST simulation)</td><td>0.0283    MW E(B-V)</td><td>-9.0000 +-  9.0000</td><td>87</td><td>5</td><td>0.0 .. 0.0</td><td>0.5490403471558932</td></tr>\n",
       "<tr><td>DES_SN000177.DAT</td><td>DES</td><td>177</td><td>-9</td><td>griz</td><td>0.500000  deg</td><td>-43.000000  deg</td><td>3   (=&gt; BLIND-TEST simulation)</td><td>0.0111    MW E(B-V)</td><td>-9.0000 +-  9.0000</td><td>45</td><td>5</td><td>0.0 .. 0.0</td><td>0.47462365714355087</td></tr>\n",
       "<tr><td>...</td><td>...</td><td>...</td><td>...</td><td>...</td><td>...</td><td>...</td><td>...</td><td>...</td><td>...</td><td>...</td><td>...</td><td>...</td><td>...</td></tr>\n",
       "<tr><td>DES_SN199804.DAT</td><td>DES</td><td>199804</td><td>-9</td><td>griz</td><td>36.750000  deg</td><td>-4.500000  deg</td><td>3   (=&gt; BLIND-TEST simulation)</td><td>0.0283    MW E(B-V)</td><td>-9.0000 +-  9.0000</td><td>116</td><td>5</td><td>0.0 .. 0.0</td><td>0.9139428381939924</td></tr>\n",
       "<tr><td>DES_SN199809.DAT</td><td>DES</td><td>199809</td><td>-9</td><td>griz</td><td>52.500000  deg</td><td>-27.500000  deg</td><td>3   (=&gt; BLIND-TEST simulation)</td><td>0.0097    MW E(B-V)</td><td>-9.0000 +-  9.0000</td><td>105</td><td>5</td><td>0.0 .. 0.0</td><td>0.5770266484474601</td></tr>\n",
       "<tr><td>DES_SN199836.DAT</td><td>DES</td><td>199836</td><td>-9</td><td>griz</td><td>0.500000  deg</td><td>-43.000000  deg</td><td>3   (=&gt; BLIND-TEST simulation)</td><td>0.0111    MW E(B-V)</td><td>-9.0000 +-  9.0000</td><td>8</td><td>5</td><td>0.0 .. 0.0</td><td>0.07427947423491171</td></tr>\n",
       "<tr><td>DES_SN199840.DAT</td><td>DES</td><td>199840</td><td>-9</td><td>griz</td><td>52.500000  deg</td><td>-27.500000  deg</td><td>3   (=&gt; BLIND-TEST simulation)</td><td>0.0097    MW E(B-V)</td><td>-9.0000 +-  9.0000</td><td>63</td><td>5</td><td>0.0 .. 0.0</td><td>0.5320713293349897</td></tr>\n",
       "<tr><td>DES_SN199843.DAT</td><td>DES</td><td>199843</td><td>-9</td><td>griz</td><td>36.750000  deg</td><td>-4.500000  deg</td><td>3   (=&gt; BLIND-TEST simulation)</td><td>0.0283    MW E(B-V)</td><td>-9.0000 +-  9.0000</td><td>110</td><td>5</td><td>0.0 .. 0.0</td><td>0.891233627013226</td></tr>\n",
       "<tr><td>DES_SN199863.DAT</td><td>DES</td><td>199863</td><td>-9</td><td>griz</td><td>34.500000  deg</td><td>-5.500000  deg</td><td>3   (=&gt; BLIND-TEST simulation)</td><td>0.0227    MW E(B-V)</td><td>-9.0000 +-  9.0000</td><td>100</td><td>5</td><td>0.0 .. 0.0</td><td>0.6516663140983509</td></tr>\n",
       "<tr><td>DES_SN199866.DAT</td><td>DES</td><td>199866</td><td>-9</td><td>griz</td><td>36.750000  deg</td><td>-4.500000  deg</td><td>3   (=&gt; BLIND-TEST simulation)</td><td>0.0283    MW E(B-V)</td><td>-9.0000 +-  9.0000</td><td>57</td><td>5</td><td>0.0 .. 0.0</td><td>0.605859113700411</td></tr>\n",
       "<tr><td>DES_SN199900.DAT</td><td>DES</td><td>199900</td><td>-9</td><td>griz</td><td>52.500000  deg</td><td>-27.500000  deg</td><td>3   (=&gt; BLIND-TEST simulation)</td><td>0.0097    MW E(B-V)</td><td>-9.0000 +-  9.0000</td><td>117</td><td>5</td><td>0.0 .. 0.0</td><td>0.7034538354668342</td></tr>\n",
       "<tr><td>DES_SN199953.DAT</td><td>DES</td><td>199953</td><td>-9</td><td>griz</td><td>34.500000  deg</td><td>-5.500000  deg</td><td>3   (=&gt; BLIND-TEST simulation)</td><td>0.0227    MW E(B-V)</td><td>-9.0000 +-  9.0000</td><td>120</td><td>5</td><td>0.0 .. 0.0</td><td>0.7998193325595936</td></tr>\n",
       "<tr><td>DES_SN199968.DAT</td><td>DES</td><td>199968</td><td>-9</td><td>griz</td><td>48.000000  deg</td><td>0.000000  deg</td><td>3   (=&gt; BLIND-TEST simulation)</td><td>0.0713    MW E(B-V)</td><td>-9.0000 +-  9.0000</td><td>109</td><td>5</td><td>0.0 .. 0.0</td><td>0.8621095782330321</td></tr>\n",
       "</table>"
      ],
      "text/plain": [
       "<Table length=18347>\n",
       "    FILENAME      SURVEY     SNID     ...  NVAR  DATA [50,9]      obs_length    \n",
       "    bytes16       bytes7   bytes12    ... bytes3   float64         float64      \n",
       "---------------- ------- ------------ ... ------ ----------- -------------------\n",
       "DES_SN000018.DAT DES   \n",
       "       18   \n",
       " ...    5 \n",
       "  0.0 .. 0.0  0.8341289942655092\n",
       "DES_SN000050.DAT DES   \n",
       "       50   \n",
       " ...    5 \n",
       "  0.0 .. 0.0 0.17683683328855004\n",
       "DES_SN000051.DAT DES   \n",
       "       51   \n",
       " ...    5 \n",
       "  0.0 .. 0.0  0.7254312291675129\n",
       "DES_SN000063.DAT DES   \n",
       "       63   \n",
       " ...    5 \n",
       "  0.0 .. 0.0   0.731480158026834\n",
       "DES_SN000064.DAT DES   \n",
       "       64   \n",
       " ...    5 \n",
       "  0.0 .. 0.0  0.6740610724556567\n",
       "DES_SN000096.DAT DES   \n",
       "       96   \n",
       " ...    5 \n",
       "  0.0 .. 0.0  0.6853870914257367\n",
       "DES_SN000122.DAT DES   \n",
       "      122   \n",
       " ...    5 \n",
       "  0.0 .. 0.0 0.10264311891463129\n",
       "DES_SN000124.DAT DES   \n",
       "      124   \n",
       " ...    5 \n",
       "  0.0 .. 0.0  0.6515748369133555\n",
       "DES_SN000156.DAT DES   \n",
       "      156   \n",
       " ...    5 \n",
       "  0.0 .. 0.0  0.5490403471558932\n",
       "DES_SN000177.DAT DES   \n",
       "      177   \n",
       " ...    5 \n",
       "  0.0 .. 0.0 0.47462365714355087\n",
       "             ...     ...          ... ...    ...         ...                 ...\n",
       "DES_SN199804.DAT DES   \n",
       "   199804   \n",
       " ...    5 \n",
       "  0.0 .. 0.0  0.9139428381939924\n",
       "DES_SN199809.DAT DES   \n",
       "   199809   \n",
       " ...    5 \n",
       "  0.0 .. 0.0  0.5770266484474601\n",
       "DES_SN199836.DAT DES   \n",
       "   199836   \n",
       " ...    5 \n",
       "  0.0 .. 0.0 0.07427947423491171\n",
       "DES_SN199840.DAT DES   \n",
       "   199840   \n",
       " ...    5 \n",
       "  0.0 .. 0.0  0.5320713293349897\n",
       "DES_SN199843.DAT DES   \n",
       "   199843   \n",
       " ...    5 \n",
       "  0.0 .. 0.0   0.891233627013226\n",
       "DES_SN199863.DAT DES   \n",
       "   199863   \n",
       " ...    5 \n",
       "  0.0 .. 0.0  0.6516663140983509\n",
       "DES_SN199866.DAT DES   \n",
       "   199866   \n",
       " ...    5 \n",
       "  0.0 .. 0.0   0.605859113700411\n",
       "DES_SN199900.DAT DES   \n",
       "   199900   \n",
       " ...    5 \n",
       "  0.0 .. 0.0  0.7034538354668342\n",
       "DES_SN199953.DAT DES   \n",
       "   199953   \n",
       " ...    5 \n",
       "  0.0 .. 0.0  0.7998193325595936\n",
       "DES_SN199968.DAT DES   \n",
       "   199968   \n",
       " ...    5 \n",
       "  0.0 .. 0.0  0.8621095782330321"
      ]
     },
     "execution_count": 11,
     "metadata": {},
     "output_type": "execute_result"
    }
   ],
   "source": [
    "data_table"
   ]
  },
  {
   "cell_type": "code",
   "execution_count": 12,
   "metadata": {},
   "outputs": [
    {
     "data": {
      "text/html": [
       "&lt;Column name=&apos;DATA&apos; dtype=&apos;float64&apos; shape=(50, 9) length=18347&gt;\n",
       "<table>\n",
       "<tr><td>0.0 .. 0.0</td></tr>\n",
       "<tr><td>0.0 .. 0.0</td></tr>\n",
       "<tr><td>0.0 .. 0.0</td></tr>\n",
       "<tr><td>0.0 .. 0.0</td></tr>\n",
       "<tr><td>0.0 .. 0.0</td></tr>\n",
       "<tr><td>0.0 .. 0.0</td></tr>\n",
       "<tr><td>0.0 .. 0.0</td></tr>\n",
       "<tr><td>0.0 .. 0.0</td></tr>\n",
       "<tr><td>0.0 .. 0.0</td></tr>\n",
       "<tr><td>0.0 .. 0.0</td></tr>\n",
       "<tr><td>0.0 .. 0.0</td></tr>\n",
       "<tr><td>0.0 .. 0.0</td></tr>\n",
       "<tr><td>...</td></tr>\n",
       "<tr><td>0.0 .. 0.0</td></tr>\n",
       "<tr><td>0.0 .. 0.0</td></tr>\n",
       "<tr><td>0.0 .. 0.0</td></tr>\n",
       "<tr><td>0.0 .. 0.0</td></tr>\n",
       "<tr><td>0.0 .. 0.0</td></tr>\n",
       "<tr><td>0.0 .. 0.0</td></tr>\n",
       "<tr><td>0.0 .. 0.0</td></tr>\n",
       "<tr><td>0.0 .. 0.0</td></tr>\n",
       "<tr><td>0.0 .. 0.0</td></tr>\n",
       "<tr><td>0.0 .. 0.0</td></tr>\n",
       "<tr><td>0.0 .. 0.0</td></tr>\n",
       "<tr><td>0.0 .. 0.0</td></tr>\n",
       "</table>"
      ],
      "text/plain": [
       "<Column name='DATA' dtype='float64' shape=(50, 9) length=18347>\n",
       "0.0 .. 0.0\n",
       "0.0 .. 0.0\n",
       "0.0 .. 0.0\n",
       "0.0 .. 0.0\n",
       "0.0 .. 0.0\n",
       "0.0 .. 0.0\n",
       "0.0 .. 0.0\n",
       "0.0 .. 0.0\n",
       "0.0 .. 0.0\n",
       "0.0 .. 0.0\n",
       "0.0 .. 0.0\n",
       "0.0 .. 0.0\n",
       "       ...\n",
       "0.0 .. 0.0\n",
       "0.0 .. 0.0\n",
       "0.0 .. 0.0\n",
       "0.0 .. 0.0\n",
       "0.0 .. 0.0\n",
       "0.0 .. 0.0\n",
       "0.0 .. 0.0\n",
       "0.0 .. 0.0\n",
       "0.0 .. 0.0\n",
       "0.0 .. 0.0\n",
       "0.0 .. 0.0\n",
       "0.0 .. 0.0"
      ]
     },
     "execution_count": 12,
     "metadata": {},
     "output_type": "execute_result"
    }
   ],
   "source": [
    "data_table['DATA']"
   ]
  },
  {
   "cell_type": "code",
   "execution_count": 13,
   "metadata": {},
   "outputs": [],
   "source": [
    "data_table['label'] = 1.0*(data_table['SNTYPE'].astype('int') == 1)"
   ]
  },
  {
   "cell_type": "code",
   "execution_count": 20,
   "metadata": {},
   "outputs": [],
   "source": [
    "# Define input function for training \n",
    "def input_fn_train():\n",
    "    def mapping_function(x):\n",
    "        def extract_batch(inds):\n",
    "            inds = randomized_inds_train[inds]\n",
    "            return data_table['label'][inds].astype('float32'), clip(data_table['obs_length'][inds],0,49).astype('int32'),data_table['DATA'][inds].astype('float32') \n",
    "        a,b,c =tf.py_func( extract_batch, [x], [tf.float32, tf.int32, tf.float32])\n",
    "        a.set_shape([None])\n",
    "        b.set_shape([None])\n",
    "        c.set_shape([None,50,9])\n",
    "        return a,b,c\n",
    "\n",
    "    dataset = tf.data.Dataset.range(len(randomized_inds_train))\n",
    "    dataset = dataset.repeat().shuffle(10000).batch(512)\n",
    "    dataset = dataset.map( mapping_function)\n",
    "    iterator = dataset.make_one_shot_iterator()\n",
    "    label, length, ts = iterator.get_next()\n",
    "    return  {'length':length, 'ts':ts}, label\n",
    "\n",
    "def input_fn_test():\n",
    "    def mapping_function(x):\n",
    "        def extract_batch(inds):\n",
    "            inds = randomized_inds_test[inds]\n",
    "            return data_table['label'][inds].astype('float32'), clip(data_table['obs_length'][inds],0,49).astype('int32'),data_table['DATA'][inds].astype('float32') \n",
    "        a,b,c =tf.py_func( extract_batch, [x], [tf.float32, tf.int32, tf.float32])\n",
    "        a.set_shape([None])\n",
    "        b.set_shape([None])\n",
    "        c.set_shape([None,50,9])\n",
    "        return a,b,c\n",
    "\n",
    "    dataset = tf.data.Dataset.range(len(randomized_inds_test))\n",
    "    dataset = dataset.batch(512)\n",
    "    dataset = dataset.map( mapping_function)\n",
    "    iterator = dataset.make_one_shot_iterator()\n",
    "    label, length, ts = iterator.get_next()\n",
    "    return  {'length':length, 'ts':ts}, label"
   ]
  },
  {
   "cell_type": "code",
   "execution_count": 21,
   "metadata": {},
   "outputs": [
    {
     "name": "stdout",
     "output_type": "stream",
     "text": [
      "INFO:tensorflow:Using default config.\n",
      "INFO:tensorflow:Using config: {'_model_dir': 'models/test1', '_tf_random_seed': None, '_save_summary_steps': 100, '_save_checkpoints_steps': None, '_save_checkpoints_secs': 600, '_session_config': None, '_keep_checkpoint_max': 5, '_keep_checkpoint_every_n_hours': 10000, '_log_step_count_steps': 100, '_train_distribute': None, '_service': None, '_cluster_spec': <tensorflow.python.training.server_lib.ClusterSpec object at 0x1267f0240>, '_task_type': 'worker', '_task_id': 0, '_global_id_in_cluster': 0, '_master': '', '_evaluation_master': '', '_is_chief': True, '_num_ps_replicas': 0, '_num_worker_replicas': 1}\n"
     ]
    }
   ],
   "source": [
    "model = RNNClassifier(hidden_units=[128, 128], dropout=1.0, model_dir='models/test1')"
   ]
  },
  {
   "cell_type": "code",
   "execution_count": 22,
   "metadata": {},
   "outputs": [
    {
     "name": "stdout",
     "output_type": "stream",
     "text": [
      "INFO:tensorflow:Calling model_fn.\n",
      "INFO:tensorflow:Done calling model_fn.\n",
      "INFO:tensorflow:Create CheckpointSaverHook.\n",
      "INFO:tensorflow:Graph was finalized.\n",
      "INFO:tensorflow:Restoring parameters from models/test1/model.ckpt-200\n",
      "INFO:tensorflow:Running local_init_op.\n",
      "INFO:tensorflow:Done running local_init_op.\n",
      "INFO:tensorflow:Saving checkpoints for 201 into models/test1/model.ckpt.\n",
      "INFO:tensorflow:loss = 0.6804806, step = 201\n",
      "INFO:tensorflow:global_step/sec: 26.1235\n",
      "INFO:tensorflow:loss = 0.65978014, step = 301 (3.827 sec)\n",
      "INFO:tensorflow:Saving checkpoints for 400 into models/test1/model.ckpt.\n",
      "INFO:tensorflow:Loss for final step: 0.646312.\n"
     ]
    },
    {
     "data": {
      "text/plain": [
       "<rnn.RNNClassifier at 0x1250b7550>"
      ]
     },
     "execution_count": 22,
     "metadata": {},
     "output_type": "execute_result"
    }
   ],
   "source": [
    "model.train(input_fn=input_fn_train, steps=200)"
   ]
  },
  {
   "cell_type": "code",
   "execution_count": 23,
   "metadata": {},
   "outputs": [
    {
     "name": "stdout",
     "output_type": "stream",
     "text": [
      "INFO:tensorflow:Calling model_fn.\n",
      "INFO:tensorflow:Done calling model_fn.\n",
      "INFO:tensorflow:Graph was finalized.\n",
      "INFO:tensorflow:Restoring parameters from models/test1/model.ckpt-400\n",
      "INFO:tensorflow:Running local_init_op.\n",
      "INFO:tensorflow:Done running local_init_op.\n"
     ]
    }
   ],
   "source": [
    "# Apply model to training set\n",
    "test_prob = [p['prob'] for p in model.predict(input_fn_test)]\n",
    "table_test = data_table[randomized_inds_test]\n",
    "table_test['p'] = test_prob"
   ]
  },
  {
   "cell_type": "code",
   "execution_count": 24,
   "metadata": {},
   "outputs": [
    {
     "data": {
      "text/html": [
       "<i>Table length=3347</i>\n",
       "<table id=\"table4891853712\" class=\"table-striped table-bordered table-condensed\">\n",
       "<thead><tr><th>FILENAME</th><th>SURVEY</th><th>SNID</th><th>SNTYPE</th><th>FILTERS</th><th>RA</th><th>DECL</th><th>FAKE</th><th>MWEBV</th><th>REDSHIFT_SPE</th><th>NOBS</th><th>NVAR</th><th>DATA [50,9]</th><th>obs_length</th><th>label</th><th>p</th></tr></thead>\n",
       "<thead><tr><th>bytes16</th><th>bytes7</th><th>bytes12</th><th>bytes5</th><th>bytes6</th><th>bytes21</th><th>bytes20</th><th>bytes35</th><th>bytes23</th><th>bytes25</th><th>bytes5</th><th>bytes3</th><th>float64</th><th>float64</th><th>float64</th><th>float32</th></tr></thead>\n",
       "<tr><td>DES_SN179333.DAT</td><td>DES</td><td>179333</td><td>-9</td><td>griz</td><td>36.750000  deg</td><td>-4.500000  deg</td><td>3   (=&gt; BLIND-TEST simulation)</td><td>0.0283    MW E(B-V)</td><td>-9.0000 +-  9.0000</td><td>24</td><td>5</td><td>0.0 .. 0.0</td><td>0.2913376823111847</td><td>0.0</td><td>0.4720389</td></tr>\n",
       "<tr><td>DES_SN158542.DAT</td><td>DES</td><td>158542</td><td>-9</td><td>griz</td><td>34.500000  deg</td><td>-5.500000  deg</td><td>3   (=&gt; BLIND-TEST simulation)</td><td>0.0227    MW E(B-V)</td><td>-9.0000 +-  9.0000</td><td>19</td><td>5</td><td>0.0 .. 0.0</td><td>0.21696673089127758</td><td>0.0</td><td>0.4720389</td></tr>\n",
       "<tr><td>DES_SN086920.DAT</td><td>DES</td><td>86920</td><td>-9</td><td>griz</td><td>52.500000  deg</td><td>-27.500000  deg</td><td>3   (=&gt; BLIND-TEST simulation)</td><td>0.0097    MW E(B-V)</td><td>-9.0000 +-  9.0000</td><td>125</td><td>5</td><td>0.0 .. 0.0</td><td>0.7938790328574832</td><td>0.0</td><td>0.4720389</td></tr>\n",
       "<tr><td>DES_SN085591.DAT</td><td>DES</td><td>85591</td><td>-9</td><td>griz</td><td>0.500000  deg</td><td>-43.000000  deg</td><td>3   (=&gt; BLIND-TEST simulation)</td><td>0.0111    MW E(B-V)</td><td>-9.0000 +-  9.0000</td><td>97</td><td>5</td><td>0.0 .. 0.0</td><td>0.8403551601708602</td><td>0.0</td><td>0.4720389</td></tr>\n",
       "<tr><td>DES_SN137668.DAT</td><td>DES</td><td>137668</td><td>-9</td><td>griz</td><td>34.500000  deg</td><td>-5.500000  deg</td><td>3   (=&gt; BLIND-TEST simulation)</td><td>0.0227    MW E(B-V)</td><td>-9.0000 +-  9.0000</td><td>108</td><td>5</td><td>0.0 .. 0.0</td><td>0.6403631644245302</td><td>0.0</td><td>0.4720389</td></tr>\n",
       "<tr><td>DES_SN147764.DAT</td><td>DES</td><td>147764</td><td>-9</td><td>griz</td><td>52.500000  deg</td><td>-27.500000  deg</td><td>3   (=&gt; BLIND-TEST simulation)</td><td>0.0097    MW E(B-V)</td><td>-9.0000 +-  9.0000</td><td>141</td><td>5</td><td>0.0 .. 0.0</td><td>0.8287261230254077</td><td>0.0</td><td>0.4720389</td></tr>\n",
       "<tr><td>DES_SN063009.DAT</td><td>DES</td><td>63009</td><td>-9</td><td>griz</td><td>36.750000  deg</td><td>-4.500000  deg</td><td>3   (=&gt; BLIND-TEST simulation)</td><td>0.0283    MW E(B-V)</td><td>-9.0000 +-  9.0000</td><td>83</td><td>5</td><td>0.0 .. 0.0</td><td>0.4749381099670114</td><td>0.0</td><td>0.4720389</td></tr>\n",
       "<tr><td>DES_SN103059.DAT</td><td>DES</td><td>103059</td><td>-9</td><td>griz</td><td>34.500000  deg</td><td>-5.500000  deg</td><td>3   (=&gt; BLIND-TEST simulation)</td><td>0.0227    MW E(B-V)</td><td>-9.0000 +-  9.0000</td><td>23</td><td>5</td><td>0.0 .. 0.0</td><td>0.2624366091694561</td><td>0.0</td><td>0.4720389</td></tr>\n",
       "<tr><td>DES_SN106829.DAT</td><td>DES</td><td>106829</td><td>-9</td><td>griz</td><td>34.500000  deg</td><td>-5.500000  deg</td><td>3   (=&gt; BLIND-TEST simulation)</td><td>0.0227    MW E(B-V)</td><td>-9.0000 +-  9.0000</td><td>19</td><td>5</td><td>0.0 .. 0.0</td><td>0.21696673089127758</td><td>0.0</td><td>0.4720389</td></tr>\n",
       "<tr><td>DES_SN104890.DAT</td><td>DES</td><td>104890</td><td>-9</td><td>griz</td><td>36.750000  deg</td><td>-4.500000  deg</td><td>3   (=&gt; BLIND-TEST simulation)</td><td>0.0283    MW E(B-V)</td><td>-9.0000 +-  9.0000</td><td>100</td><td>5</td><td>0.0 .. 0.0</td><td>0.7649836770397986</td><td>0.0</td><td>0.4720389</td></tr>\n",
       "<tr><td>...</td><td>...</td><td>...</td><td>...</td><td>...</td><td>...</td><td>...</td><td>...</td><td>...</td><td>...</td><td>...</td><td>...</td><td>...</td><td>...</td><td>...</td><td>...</td></tr>\n",
       "<tr><td>DES_SN011297.DAT</td><td>DES</td><td>11297</td><td>-9</td><td>griz</td><td>48.000000  deg</td><td>0.000000  deg</td><td>3   (=&gt; BLIND-TEST simulation)</td><td>0.0713    MW E(B-V)</td><td>-9.0000 +-  9.0000</td><td>16</td><td>5</td><td>0.0 .. 0.0</td><td>0.13136123768632751</td><td>0.0</td><td>0.4720389</td></tr>\n",
       "<tr><td>DES_SN025694.DAT</td><td>DES</td><td>25694</td><td>-9</td><td>griz</td><td>0.500000  deg</td><td>-43.000000  deg</td><td>3   (=&gt; BLIND-TEST simulation)</td><td>0.0111    MW E(B-V)</td><td>-9.0000 +-  9.0000</td><td>60</td><td>5</td><td>0.0 .. 0.0</td><td>0.5547576712195801</td><td>0.0</td><td>0.4720389</td></tr>\n",
       "<tr><td>DES_SN003036.DAT</td><td>DES</td><td>3036</td><td>-9</td><td>griz</td><td>48.000000  deg</td><td>0.000000  deg</td><td>3   (=&gt; BLIND-TEST simulation)</td><td>0.0713    MW E(B-V)</td><td>-9.0000 +-  9.0000</td><td>99</td><td>5</td><td>0.0 .. 0.0</td><td>0.7195366680579209</td><td>0.0</td><td>0.4720389</td></tr>\n",
       "<tr><td>DES_SN118217.DAT</td><td>DES</td><td>118217</td><td>-9</td><td>griz</td><td>48.000000  deg</td><td>0.000000  deg</td><td>3   (=&gt; BLIND-TEST simulation)</td><td>0.0713    MW E(B-V)</td><td>-9.0000 +-  9.0000</td><td>52</td><td>5</td><td>0.0 .. 0.0</td><td>0.5309736031147958</td><td>0.0</td><td>0.4720389</td></tr>\n",
       "<tr><td>DES_SN162214.DAT</td><td>DES</td><td>162214</td><td>-9</td><td>griz</td><td>52.500000  deg</td><td>-27.500000  deg</td><td>3   (=&gt; BLIND-TEST simulation)</td><td>0.0097    MW E(B-V)</td><td>-9.0000 +-  9.0000</td><td>55</td><td>5</td><td>0.0 .. 0.0</td><td>0.4455968028723549</td><td>0.0</td><td>0.4720389</td></tr>\n",
       "<tr><td>DES_SN148923.DAT</td><td>DES</td><td>148923</td><td>-9</td><td>griz</td><td>52.500000  deg</td><td>-27.500000  deg</td><td>3   (=&gt; BLIND-TEST simulation)</td><td>0.0097    MW E(B-V)</td><td>-9.0000 +-  9.0000</td><td>125</td><td>5</td><td>0.0 .. 0.0</td><td>0.7886362466910715</td><td>0.0</td><td>0.4720389</td></tr>\n",
       "<tr><td>DES_SN109277.DAT</td><td>DES</td><td>109277</td><td>-9</td><td>griz</td><td>34.500000  deg</td><td>-5.500000  deg</td><td>3   (=&gt; BLIND-TEST simulation)</td><td>0.0227    MW E(B-V)</td><td>-9.0000 +-  9.0000</td><td>27</td><td>5</td><td>0.0 .. 0.0</td><td>0.30848965450212046</td><td>0.0</td><td>0.4720389</td></tr>\n",
       "<tr><td>DES_SN058607.DAT</td><td>DES</td><td>58607</td><td>-9</td><td>griz</td><td>34.500000  deg</td><td>-5.500000  deg</td><td>3   (=&gt; BLIND-TEST simulation)</td><td>0.0227    MW E(B-V)</td><td>-9.0000 +-  9.0000</td><td>41</td><td>5</td><td>0.0 .. 0.0</td><td>0.47934044949599997</td><td>0.0</td><td>0.47203895</td></tr>\n",
       "<tr><td>DES_SN148707.DAT</td><td>DES</td><td>148707</td><td>-9</td><td>griz</td><td>52.500000  deg</td><td>-27.500000  deg</td><td>3   (=&gt; BLIND-TEST simulation)</td><td>0.0097    MW E(B-V)</td><td>-9.0000 +-  9.0000</td><td>106</td><td>5</td><td>0.0 .. 0.0</td><td>0.4857724390676425</td><td>0.0</td><td>0.47203895</td></tr>\n",
       "<tr><td>DES_SN011781.DAT</td><td>DES</td><td>11781</td><td>-9</td><td>griz</td><td>36.750000  deg</td><td>-4.500000  deg</td><td>3   (=&gt; BLIND-TEST simulation)</td><td>0.0283    MW E(B-V)</td><td>-9.0000 +-  9.0000</td><td>45</td><td>5</td><td>0.0 .. 0.0</td><td>0.5422081448998388</td><td>0.0</td><td>0.47203895</td></tr>\n",
       "</table>"
      ],
      "text/plain": [
       "<Table length=3347>\n",
       "    FILENAME      SURVEY     SNID     ...      obs_length      label      p     \n",
       "    bytes16       bytes7   bytes12    ...       float64       float64  float32  \n",
       "---------------- ------- ------------ ... ------------------- ------- ----------\n",
       "DES_SN179333.DAT DES   \n",
       "   179333   \n",
       " ...  0.2913376823111847     0.0  0.4720389\n",
       "DES_SN158542.DAT DES   \n",
       "   158542   \n",
       " ... 0.21696673089127758     0.0  0.4720389\n",
       "DES_SN086920.DAT DES   \n",
       "    86920   \n",
       " ...  0.7938790328574832     0.0  0.4720389\n",
       "DES_SN085591.DAT DES   \n",
       "    85591   \n",
       " ...  0.8403551601708602     0.0  0.4720389\n",
       "DES_SN137668.DAT DES   \n",
       "   137668   \n",
       " ...  0.6403631644245302     0.0  0.4720389\n",
       "DES_SN147764.DAT DES   \n",
       "   147764   \n",
       " ...  0.8287261230254077     0.0  0.4720389\n",
       "DES_SN063009.DAT DES   \n",
       "    63009   \n",
       " ...  0.4749381099670114     0.0  0.4720389\n",
       "DES_SN103059.DAT DES   \n",
       "   103059   \n",
       " ...  0.2624366091694561     0.0  0.4720389\n",
       "DES_SN106829.DAT DES   \n",
       "   106829   \n",
       " ... 0.21696673089127758     0.0  0.4720389\n",
       "DES_SN104890.DAT DES   \n",
       "   104890   \n",
       " ...  0.7649836770397986     0.0  0.4720389\n",
       "             ...     ...          ... ...                 ...     ...        ...\n",
       "DES_SN011297.DAT DES   \n",
       "    11297   \n",
       " ... 0.13136123768632751     0.0  0.4720389\n",
       "DES_SN025694.DAT DES   \n",
       "    25694   \n",
       " ...  0.5547576712195801     0.0  0.4720389\n",
       "DES_SN003036.DAT DES   \n",
       "     3036   \n",
       " ...  0.7195366680579209     0.0  0.4720389\n",
       "DES_SN118217.DAT DES   \n",
       "   118217   \n",
       " ...  0.5309736031147958     0.0  0.4720389\n",
       "DES_SN162214.DAT DES   \n",
       "   162214   \n",
       " ...  0.4455968028723549     0.0  0.4720389\n",
       "DES_SN148923.DAT DES   \n",
       "   148923   \n",
       " ...  0.7886362466910715     0.0  0.4720389\n",
       "DES_SN109277.DAT DES   \n",
       "   109277   \n",
       " ... 0.30848965450212046     0.0  0.4720389\n",
       "DES_SN058607.DAT DES   \n",
       "    58607   \n",
       " ... 0.47934044949599997     0.0 0.47203895\n",
       "DES_SN148707.DAT DES   \n",
       "   148707   \n",
       " ...  0.4857724390676425     0.0 0.47203895\n",
       "DES_SN011781.DAT DES   \n",
       "    11781   \n",
       " ...  0.5422081448998388     0.0 0.47203895"
      ]
     },
     "execution_count": 24,
     "metadata": {},
     "output_type": "execute_result"
    }
   ],
   "source": [
    "table_test"
   ]
  },
  {
   "cell_type": "code",
   "execution_count": null,
   "metadata": {},
   "outputs": [],
   "source": []
  },
  {
   "cell_type": "code",
   "execution_count": null,
   "metadata": {},
   "outputs": [],
   "source": []
  }
 ],
 "metadata": {
  "kernelspec": {
   "display_name": "Python 3",
   "language": "python",
   "name": "python3"
  },
  "language_info": {
   "codemirror_mode": {
    "name": "ipython",
    "version": 3
   },
   "file_extension": ".py",
   "mimetype": "text/x-python",
   "name": "python",
   "nbconvert_exporter": "python",
   "pygments_lexer": "ipython3",
   "version": "3.6.5"
  }
 },
 "nbformat": 4,
 "nbformat_minor": 2
}
