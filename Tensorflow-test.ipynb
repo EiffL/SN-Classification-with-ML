{
 "cells": [
  {
   "cell_type": "code",
   "execution_count": 2,
   "metadata": {},
   "outputs": [
    {
     "name": "stdout",
     "output_type": "stream",
     "text": [
      "Populating the interactive namespace from numpy and matplotlib\n"
     ]
    }
   ],
   "source": [
    "%pylab inline\n",
    "from astropy.table import Table\n",
    "from rnn import RNNClassifier\n",
    "import tensorflow as tf"
   ]
  },
  {
   "cell_type": "code",
   "execution_count": 3,
   "metadata": {},
   "outputs": [],
   "source": [
    "# Loading dataset\n",
    "data_table = Table.read('table_test1.fits')"
   ]
  },
  {
   "cell_type": "code",
   "execution_count": 5,
   "metadata": {},
   "outputs": [],
   "source": [
    "# Splitting training and testing data\n",
    "randomize_inds = range(len(data_table))\n",
    "randomize_inds = permutation(randomize_inds)\n",
    "randomized_inds_train = randomize_inds[0:15000]\n",
    "randomized_inds_test  = randomize_inds[15000:]"
   ]
  },
  {
   "cell_type": "code",
   "execution_count": 6,
   "metadata": {},
   "outputs": [
    {
     "data": {
      "text/plain": [
       "array([12697, 10339, 10870, ..., 11096, 18175, 13925])"
      ]
     },
     "execution_count": 6,
     "metadata": {},
     "output_type": "execute_result"
    }
   ],
   "source": [
    "randomized_inds_test"
   ]
  },
  {
   "cell_type": "code",
   "execution_count": 7,
   "metadata": {},
   "outputs": [
    {
     "data": {
      "text/plain": [
       "['FILENAME',\n",
       " 'SURVEY',\n",
       " 'SNID',\n",
       " 'SNTYPE',\n",
       " 'FILTERS',\n",
       " 'RA',\n",
       " 'DECL',\n",
       " 'FAKE',\n",
       " 'MWEBV',\n",
       " 'REDSHIFT_SPE',\n",
       " 'NOBS',\n",
       " 'NVAR',\n",
       " 'DATA']"
      ]
     },
     "execution_count": 7,
     "metadata": {},
     "output_type": "execute_result"
    }
   ],
   "source": [
    "data_table.colnames"
   ]
  },
  {
   "cell_type": "code",
   "execution_count": 27,
   "metadata": {},
   "outputs": [
    {
     "data": {
      "text/html": [
       "<i>Table length=18347</i>\n",
       "<table id=\"table4687162952\" class=\"table-striped table-bordered table-condensed\">\n",
       "<thead><tr><th>FILENAME</th><th>SURVEY</th><th>SNID</th><th>SNTYPE</th><th>FILTERS</th><th>RA</th><th>DECL</th><th>FAKE</th><th>MWEBV</th><th>REDSHIFT_SPE</th><th>NOBS</th><th>NVAR</th><th>DATA [50,9]</th><th>obs_len</th><th>label</th></tr></thead>\n",
       "<thead><tr><th>bytes16</th><th>bytes7</th><th>bytes12</th><th>bytes5</th><th>bytes6</th><th>bytes21</th><th>bytes20</th><th>bytes35</th><th>bytes23</th><th>bytes25</th><th>bytes5</th><th>bytes3</th><th>float64</th><th>int64</th><th>float64</th></tr></thead>\n",
       "<tr><td>DES_SN000018.DAT</td><td>DES</td><td>18</td><td>-9</td><td>griz</td><td>34.500000  deg</td><td>-5.500000  deg</td><td>3   (=&gt; BLIND-TEST simulation)</td><td>0.0227    MW E(B-V)</td><td>-9.0000 +-  9.0000</td><td>118</td><td>5</td><td>56187.18175 .. 0.0</td><td>20</td><td>0.0</td></tr>\n",
       "<tr><td>DES_SN000050.DAT</td><td>DES</td><td>50</td><td>-9</td><td>griz</td><td>36.750000  deg</td><td>-4.500000  deg</td><td>3   (=&gt; BLIND-TEST simulation)</td><td>0.0283    MW E(B-V)</td><td>-9.0000 +-  9.0000</td><td>16</td><td>5</td><td>56318.07666666667 .. 0.0</td><td>20</td><td>0.0</td></tr>\n",
       "<tr><td>DES_SN000051.DAT</td><td>DES</td><td>51</td><td>1</td><td>griz</td><td>52.500000  deg</td><td>-27.500000  deg</td><td>3   (=&gt; BLIND-TEST simulation)</td><td>0.0097    MW E(B-V)</td><td>0.5177 +-  0.0050</td><td>121</td><td>5</td><td>56194.2795 .. 0.0</td><td>20</td><td>1.0</td></tr>\n",
       "<tr><td>DES_SN000063.DAT</td><td>DES</td><td>63</td><td>-9</td><td>griz</td><td>34.500000  deg</td><td>-5.500000  deg</td><td>3   (=&gt; BLIND-TEST simulation)</td><td>0.0227    MW E(B-V)</td><td>-9.0000 +-  9.0000</td><td>115</td><td>5</td><td>56177.19925 .. 0.0</td><td>20</td><td>0.0</td></tr>\n",
       "<tr><td>DES_SN000064.DAT</td><td>DES</td><td>64</td><td>-9</td><td>griz</td><td>48.000000  deg</td><td>0.000000  deg</td><td>3   (=&gt; BLIND-TEST simulation)</td><td>0.0713    MW E(B-V)</td><td>-9.0000 +-  9.0000</td><td>92</td><td>5</td><td>56194.22166666666 .. 0.0</td><td>20</td><td>0.0</td></tr>\n",
       "<tr><td>DES_SN000096.DAT</td><td>DES</td><td>96</td><td>-9</td><td>griz</td><td>34.500000  deg</td><td>-5.500000  deg</td><td>3   (=&gt; BLIND-TEST simulation)</td><td>0.0227    MW E(B-V)</td><td>-9.0000 +-  9.0000</td><td>104</td><td>5</td><td>56215.172 .. 0.0</td><td>20</td><td>0.0</td></tr>\n",
       "<tr><td>DES_SN000122.DAT</td><td>DES</td><td>122</td><td>-9</td><td>griz</td><td>34.500000  deg</td><td>-5.500000  deg</td><td>3   (=&gt; BLIND-TEST simulation)</td><td>0.0227    MW E(B-V)</td><td>-9.0000 +-  9.0000</td><td>11</td><td>5</td><td>56333.047 .. 0.0</td><td>20</td><td>0.0</td></tr>\n",
       "<tr><td>DES_SN000124.DAT</td><td>DES</td><td>124</td><td>-9</td><td>griz</td><td>48.000000  deg</td><td>0.000000  deg</td><td>3   (=&gt; BLIND-TEST simulation)</td><td>0.0713    MW E(B-V)</td><td>-9.0000 +-  9.0000</td><td>95</td><td>5</td><td>56178.25 .. 0.0</td><td>20</td><td>0.0</td></tr>\n",
       "<tr><td>DES_SN000156.DAT</td><td>DES</td><td>156</td><td>-9</td><td>griz</td><td>36.750000  deg</td><td>-4.500000  deg</td><td>3   (=&gt; BLIND-TEST simulation)</td><td>0.0283    MW E(B-V)</td><td>-9.0000 +-  9.0000</td><td>87</td><td>5</td><td>56178.199250000005 .. 0.0</td><td>20</td><td>0.0</td></tr>\n",
       "<tr><td>DES_SN000177.DAT</td><td>DES</td><td>177</td><td>-9</td><td>griz</td><td>0.500000  deg</td><td>-43.000000  deg</td><td>3   (=&gt; BLIND-TEST simulation)</td><td>0.0111    MW E(B-V)</td><td>-9.0000 +-  9.0000</td><td>45</td><td>5</td><td>56235.02 .. 0.0</td><td>20</td><td>0.0</td></tr>\n",
       "<tr><td>...</td><td>...</td><td>...</td><td>...</td><td>...</td><td>...</td><td>...</td><td>...</td><td>...</td><td>...</td><td>...</td><td>...</td><td>...</td><td>...</td><td>...</td></tr>\n",
       "<tr><td>DES_SN199804.DAT</td><td>DES</td><td>199804</td><td>-9</td><td>griz</td><td>36.750000  deg</td><td>-4.500000  deg</td><td>3   (=&gt; BLIND-TEST simulation)</td><td>0.0283    MW E(B-V)</td><td>-9.0000 +-  9.0000</td><td>116</td><td>5</td><td>56178.199250000005 .. 0.0</td><td>20</td><td>0.0</td></tr>\n",
       "<tr><td>DES_SN199809.DAT</td><td>DES</td><td>199809</td><td>-9</td><td>griz</td><td>52.500000  deg</td><td>-27.500000  deg</td><td>3   (=&gt; BLIND-TEST simulation)</td><td>0.0097    MW E(B-V)</td><td>-9.0000 +-  9.0000</td><td>105</td><td>5</td><td>56210.19925 .. 0.0</td><td>20</td><td>0.0</td></tr>\n",
       "<tr><td>DES_SN199836.DAT</td><td>DES</td><td>199836</td><td>-9</td><td>griz</td><td>0.500000  deg</td><td>-43.000000  deg</td><td>3   (=&gt; BLIND-TEST simulation)</td><td>0.0111    MW E(B-V)</td><td>-9.0000 +-  9.0000</td><td>8</td><td>5</td><td>56305.05475 .. 0.0</td><td>20</td><td>0.0</td></tr>\n",
       "<tr><td>DES_SN199840.DAT</td><td>DES</td><td>199840</td><td>-9</td><td>griz</td><td>52.500000  deg</td><td>-27.500000  deg</td><td>3   (=&gt; BLIND-TEST simulation)</td><td>0.0097    MW E(B-V)</td><td>-9.0000 +-  9.0000</td><td>63</td><td>5</td><td>56258.13575 .. 0.0</td><td>20</td><td>0.0</td></tr>\n",
       "<tr><td>DES_SN199843.DAT</td><td>DES</td><td>199843</td><td>-9</td><td>griz</td><td>36.750000  deg</td><td>-4.500000  deg</td><td>3   (=&gt; BLIND-TEST simulation)</td><td>0.0283    MW E(B-V)</td><td>-9.0000 +-  9.0000</td><td>110</td><td>5</td><td>56180.1895 .. 0.0</td><td>20</td><td>0.0</td></tr>\n",
       "<tr><td>DES_SN199863.DAT</td><td>DES</td><td>199863</td><td>-9</td><td>griz</td><td>34.500000  deg</td><td>-5.500000  deg</td><td>3   (=&gt; BLIND-TEST simulation)</td><td>0.0227    MW E(B-V)</td><td>-9.0000 +-  9.0000</td><td>100</td><td>5</td><td>56221.139500000005 .. 0.0</td><td>20</td><td>0.0</td></tr>\n",
       "<tr><td>DES_SN199866.DAT</td><td>DES</td><td>199866</td><td>-9</td><td>griz</td><td>36.750000  deg</td><td>-4.500000  deg</td><td>3   (=&gt; BLIND-TEST simulation)</td><td>0.0283    MW E(B-V)</td><td>-9.0000 +-  9.0000</td><td>57</td><td>5</td><td>56243.168000000005 .. 0.0</td><td>20</td><td>0.0</td></tr>\n",
       "<tr><td>DES_SN199900.DAT</td><td>DES</td><td>199900</td><td>-9</td><td>griz</td><td>52.500000  deg</td><td>-27.500000  deg</td><td>3   (=&gt; BLIND-TEST simulation)</td><td>0.0097    MW E(B-V)</td><td>-9.0000 +-  9.0000</td><td>117</td><td>5</td><td>56228.08 .. 0.0</td><td>20</td><td>0.0</td></tr>\n",
       "<tr><td>DES_SN199953.DAT</td><td>DES</td><td>199953</td><td>-9</td><td>griz</td><td>34.500000  deg</td><td>-5.500000  deg</td><td>3   (=&gt; BLIND-TEST simulation)</td><td>0.0227    MW E(B-V)</td><td>-9.0000 +-  9.0000</td><td>120</td><td>5</td><td>56177.19925 .. 0.0</td><td>20</td><td>0.0</td></tr>\n",
       "<tr><td>DES_SN199968.DAT</td><td>DES</td><td>199968</td><td>-9</td><td>griz</td><td>48.000000  deg</td><td>0.000000  deg</td><td>3   (=&gt; BLIND-TEST simulation)</td><td>0.0713    MW E(B-V)</td><td>-9.0000 +-  9.0000</td><td>109</td><td>5</td><td>56200.234 .. 0.0</td><td>20</td><td>0.0</td></tr>\n",
       "</table>"
      ],
      "text/plain": [
       "<Table length=18347>\n",
       "    FILENAME      SURVEY     SNID     ... obs_len  label \n",
       "    bytes16       bytes7   bytes12    ...  int64  float64\n",
       "---------------- ------- ------------ ... ------- -------\n",
       "DES_SN000018.DAT DES   \n",
       "       18   \n",
       " ...      20     0.0\n",
       "DES_SN000050.DAT DES   \n",
       "       50   \n",
       " ...      20     0.0\n",
       "DES_SN000051.DAT DES   \n",
       "       51   \n",
       " ...      20     1.0\n",
       "DES_SN000063.DAT DES   \n",
       "       63   \n",
       " ...      20     0.0\n",
       "DES_SN000064.DAT DES   \n",
       "       64   \n",
       " ...      20     0.0\n",
       "DES_SN000096.DAT DES   \n",
       "       96   \n",
       " ...      20     0.0\n",
       "DES_SN000122.DAT DES   \n",
       "      122   \n",
       " ...      20     0.0\n",
       "DES_SN000124.DAT DES   \n",
       "      124   \n",
       " ...      20     0.0\n",
       "DES_SN000156.DAT DES   \n",
       "      156   \n",
       " ...      20     0.0\n",
       "DES_SN000177.DAT DES   \n",
       "      177   \n",
       " ...      20     0.0\n",
       "             ...     ...          ... ...     ...     ...\n",
       "DES_SN199804.DAT DES   \n",
       "   199804   \n",
       " ...      20     0.0\n",
       "DES_SN199809.DAT DES   \n",
       "   199809   \n",
       " ...      20     0.0\n",
       "DES_SN199836.DAT DES   \n",
       "   199836   \n",
       " ...      20     0.0\n",
       "DES_SN199840.DAT DES   \n",
       "   199840   \n",
       " ...      20     0.0\n",
       "DES_SN199843.DAT DES   \n",
       "   199843   \n",
       " ...      20     0.0\n",
       "DES_SN199863.DAT DES   \n",
       "   199863   \n",
       " ...      20     0.0\n",
       "DES_SN199866.DAT DES   \n",
       "   199866   \n",
       " ...      20     0.0\n",
       "DES_SN199900.DAT DES   \n",
       "   199900   \n",
       " ...      20     0.0\n",
       "DES_SN199953.DAT DES   \n",
       "   199953   \n",
       " ...      20     0.0\n",
       "DES_SN199968.DAT DES   \n",
       "   199968   \n",
       " ...      20     0.0"
      ]
     },
     "execution_count": 27,
     "metadata": {},
     "output_type": "execute_result"
    }
   ],
   "source": [
    "data_table"
   ]
  },
  {
   "cell_type": "code",
   "execution_count": 11,
   "metadata": {},
   "outputs": [
    {
     "data": {
      "text/html": [
       "&lt;Column name=&apos;SNTYPE&apos; dtype=&apos;bytes5&apos; length=8&gt;\n",
       "<table>\n",
       "<tr><td>-9</td></tr>\n",
       "<tr><td>1</td></tr>\n",
       "<tr><td>21</td></tr>\n",
       "<tr><td>22</td></tr>\n",
       "<tr><td>23</td></tr>\n",
       "<tr><td>3</td></tr>\n",
       "<tr><td>32</td></tr>\n",
       "<tr><td>33</td></tr>\n",
       "</table>"
      ],
      "text/plain": [
       "<Column name='SNTYPE' dtype='bytes5' length=8>\n",
       " -9 \n",
       "\n",
       "  1 \n",
       "\n",
       " 21 \n",
       "\n",
       " 22 \n",
       "\n",
       " 23 \n",
       "\n",
       "  3 \n",
       "\n",
       " 32 \n",
       "\n",
       " 33 "
      ]
     },
     "execution_count": 11,
     "metadata": {},
     "output_type": "execute_result"
    }
   ],
   "source": [
    "unique(data_table['SNTYPE'])"
   ]
  },
  {
   "cell_type": "code",
   "execution_count": 26,
   "metadata": {},
   "outputs": [
    {
     "data": {
      "text/html": [
       "&lt;Column name=&apos;DATA&apos; dtype=&apos;float64&apos; shape=(50, 9) length=18347&gt;\n",
       "<table>\n",
       "<tr><td>56187.18175 .. 0.0</td></tr>\n",
       "<tr><td>56318.07666666667 .. 0.0</td></tr>\n",
       "<tr><td>56194.2795 .. 0.0</td></tr>\n",
       "<tr><td>56177.19925 .. 0.0</td></tr>\n",
       "<tr><td>56194.22166666666 .. 0.0</td></tr>\n",
       "<tr><td>56215.172 .. 0.0</td></tr>\n",
       "<tr><td>56333.047 .. 0.0</td></tr>\n",
       "<tr><td>56178.25 .. 0.0</td></tr>\n",
       "<tr><td>56178.199250000005 .. 0.0</td></tr>\n",
       "<tr><td>56235.02 .. 0.0</td></tr>\n",
       "<tr><td>56208.22533333333 .. 0.0</td></tr>\n",
       "<tr><td>56177.19925 .. 0.0</td></tr>\n",
       "<tr><td>...</td></tr>\n",
       "<tr><td>56289.07666666667 .. 0.0</td></tr>\n",
       "<tr><td>56243.121 .. 0.0</td></tr>\n",
       "<tr><td>56178.199250000005 .. 0.0</td></tr>\n",
       "<tr><td>56210.19925 .. 0.0</td></tr>\n",
       "<tr><td>56305.05475 .. 0.0</td></tr>\n",
       "<tr><td>56258.13575 .. 0.0</td></tr>\n",
       "<tr><td>56180.1895 .. 0.0</td></tr>\n",
       "<tr><td>56221.139500000005 .. 0.0</td></tr>\n",
       "<tr><td>56243.168000000005 .. 0.0</td></tr>\n",
       "<tr><td>56228.08 .. 0.0</td></tr>\n",
       "<tr><td>56177.19925 .. 0.0</td></tr>\n",
       "<tr><td>56200.234 .. 0.0</td></tr>\n",
       "</table>"
      ],
      "text/plain": [
       "<Column name='DATA' dtype='float64' shape=(50, 9) length=18347>\n",
       "       56187.18175 .. 0.0\n",
       " 56318.07666666667 .. 0.0\n",
       "        56194.2795 .. 0.0\n",
       "       56177.19925 .. 0.0\n",
       " 56194.22166666666 .. 0.0\n",
       "         56215.172 .. 0.0\n",
       "         56333.047 .. 0.0\n",
       "          56178.25 .. 0.0\n",
       "56178.199250000005 .. 0.0\n",
       "          56235.02 .. 0.0\n",
       " 56208.22533333333 .. 0.0\n",
       "       56177.19925 .. 0.0\n",
       "                      ...\n",
       " 56289.07666666667 .. 0.0\n",
       "         56243.121 .. 0.0\n",
       "56178.199250000005 .. 0.0\n",
       "       56210.19925 .. 0.0\n",
       "       56305.05475 .. 0.0\n",
       "       56258.13575 .. 0.0\n",
       "        56180.1895 .. 0.0\n",
       "56221.139500000005 .. 0.0\n",
       "56243.168000000005 .. 0.0\n",
       "          56228.08 .. 0.0\n",
       "       56177.19925 .. 0.0\n",
       "         56200.234 .. 0.0"
      ]
     },
     "execution_count": 26,
     "metadata": {},
     "output_type": "execute_result"
    }
   ],
   "source": [
    "data_table['DATA']"
   ]
  },
  {
   "cell_type": "code",
   "execution_count": 8,
   "metadata": {},
   "outputs": [],
   "source": [
    "data_table['obs_len'] = 20"
   ]
  },
  {
   "cell_type": "code",
   "execution_count": 24,
   "metadata": {},
   "outputs": [],
   "source": [
    "data_table['label'] = 1.0*(data_table['SNTYPE'].astype('int') == 1)"
   ]
  },
  {
   "cell_type": "code",
   "execution_count": 40,
   "metadata": {},
   "outputs": [],
   "source": [
    "# Define input function for training \n",
    "def input_fn_train():\n",
    "    def mapping_function(x):\n",
    "        def extract_batch(inds):\n",
    "            inds = randomized_inds_train[inds]\n",
    "            return data_table['label'][inds].astype('float32'), clip(data_table['obs_len'][inds],0,49).astype('int32'),data_table['DATA'][inds].astype('float32') \n",
    "        a,b,c =tf.py_func( extract_batch, [x], [tf.float32, tf.int32, tf.float32])\n",
    "        a.set_shape([None])\n",
    "        b.set_shape([None])\n",
    "        c.set_shape([None,50,9])\n",
    "        return a,b,c\n",
    "\n",
    "    dataset = tf.data.Dataset.range(len(randomized_inds_train))\n",
    "    dataset = dataset.repeat().shuffle(10000).batch(512)\n",
    "    dataset = dataset.map( mapping_function)\n",
    "    iterator = dataset.make_one_shot_iterator()\n",
    "    label, length, ts = iterator.get_next()\n",
    "    return  {'length':length, 'ts':ts}, label\n",
    "\n",
    "def input_fn_test():\n",
    "    def mapping_function(x):\n",
    "        def extract_batch(inds):\n",
    "            inds = randomized_inds_test[inds]\n",
    "            return data_table['label'][inds].astype('float32'), clip(data_table['obs_len'][inds],0,49).astype('int32'),data_table['DATA'][inds].astype('float32') \n",
    "        a,b,c =tf.py_func( extract_batch, [x], [tf.float32, tf.int32, tf.float32])\n",
    "        a.set_shape([None])\n",
    "        b.set_shape([None])\n",
    "        c.set_shape([None,50,9])\n",
    "        return a,b,c\n",
    "\n",
    "    dataset = tf.data.Dataset.range(len(randomized_inds_test))\n",
    "    dataset = dataset.batch(512)\n",
    "    dataset = dataset.map( mapping_function)\n",
    "    iterator = dataset.make_one_shot_iterator()\n",
    "    label, length, ts = iterator.get_next()\n",
    "    return  {'length':length, 'ts':ts}, label"
   ]
  },
  {
   "cell_type": "code",
   "execution_count": 36,
   "metadata": {},
   "outputs": [
    {
     "name": "stdout",
     "output_type": "stream",
     "text": [
      "INFO:tensorflow:Using default config.\n",
      "INFO:tensorflow:Using config: {'_model_dir': 'models/test1', '_tf_random_seed': None, '_save_summary_steps': 100, '_save_checkpoints_steps': None, '_save_checkpoints_secs': 600, '_session_config': None, '_keep_checkpoint_max': 5, '_keep_checkpoint_every_n_hours': 10000, '_log_step_count_steps': 100, '_train_distribute': None, '_service': None, '_cluster_spec': <tensorflow.python.training.server_lib.ClusterSpec object at 0x11ba37390>, '_task_type': 'worker', '_task_id': 0, '_global_id_in_cluster': 0, '_master': '', '_evaluation_master': '', '_is_chief': True, '_num_ps_replicas': 0, '_num_worker_replicas': 1}\n"
     ]
    }
   ],
   "source": [
    "model = RNNClassifier(hidden_units=[128, 128], dropout=1.0, model_dir='models/test1')"
   ]
  },
  {
   "cell_type": "code",
   "execution_count": 37,
   "metadata": {},
   "outputs": [
    {
     "name": "stdout",
     "output_type": "stream",
     "text": [
      "INFO:tensorflow:Calling model_fn.\n",
      "INFO:tensorflow:Done calling model_fn.\n",
      "INFO:tensorflow:Create CheckpointSaverHook.\n",
      "INFO:tensorflow:Graph was finalized.\n",
      "INFO:tensorflow:Running local_init_op.\n",
      "INFO:tensorflow:Done running local_init_op.\n",
      "INFO:tensorflow:Saving checkpoints for 1 into models/test1/model.ckpt.\n",
      "INFO:tensorflow:loss = 0.6093843, step = 1\n",
      "INFO:tensorflow:global_step/sec: 2.1751\n",
      "INFO:tensorflow:loss = 0.22893336, step = 101 (45.974 sec)\n",
      "INFO:tensorflow:Saving checkpoints for 200 into models/test1/model.ckpt.\n",
      "INFO:tensorflow:Loss for final step: 0.22500613.\n"
     ]
    },
    {
     "data": {
      "text/plain": [
       "<rnn.RNNClassifier at 0x11ba37208>"
      ]
     },
     "execution_count": 37,
     "metadata": {},
     "output_type": "execute_result"
    }
   ],
   "source": [
    "model.train(input_fn=input_fn_train, steps=200)"
   ]
  },
  {
   "cell_type": "code",
   "execution_count": 41,
   "metadata": {},
   "outputs": [
    {
     "name": "stdout",
     "output_type": "stream",
     "text": [
      "INFO:tensorflow:Calling model_fn.\n",
      "INFO:tensorflow:Done calling model_fn.\n",
      "INFO:tensorflow:Graph was finalized.\n",
      "INFO:tensorflow:Restoring parameters from models/test1/model.ckpt-200\n",
      "INFO:tensorflow:Running local_init_op.\n",
      "INFO:tensorflow:Done running local_init_op.\n"
     ]
    }
   ],
   "source": [
    "# Apply model to training set\n",
    "test_prob = [p['prob'] for p in model.predict(input_fn_test)]\n",
    "table_test = data_table[randomized_inds_test]\n",
    "table_test['p'] = test_prob"
   ]
  },
  {
   "cell_type": "code",
   "execution_count": 42,
   "metadata": {},
   "outputs": [
    {
     "data": {
      "text/html": [
       "<i>Table length=3347</i>\n",
       "<table id=\"table4793351192\" class=\"table-striped table-bordered table-condensed\">\n",
       "<thead><tr><th>FILENAME</th><th>SURVEY</th><th>SNID</th><th>SNTYPE</th><th>FILTERS</th><th>RA</th><th>DECL</th><th>FAKE</th><th>MWEBV</th><th>REDSHIFT_SPE</th><th>NOBS</th><th>NVAR</th><th>DATA [50,9]</th><th>obs_len</th><th>label</th><th>p</th></tr></thead>\n",
       "<thead><tr><th>bytes16</th><th>bytes7</th><th>bytes12</th><th>bytes5</th><th>bytes6</th><th>bytes21</th><th>bytes20</th><th>bytes35</th><th>bytes23</th><th>bytes25</th><th>bytes5</th><th>bytes3</th><th>float64</th><th>int64</th><th>float64</th><th>float32</th></tr></thead>\n",
       "<tr><td>DES_SN137918.DAT</td><td>DES</td><td>137918</td><td>-9</td><td>griz</td><td>52.500000  deg</td><td>-27.500000  deg</td><td>3   (=&gt; BLIND-TEST simulation)</td><td>0.0097    MW E(B-V)</td><td>-9.0000 +-  9.0000</td><td>63</td><td>5</td><td>56258.13575 .. 0.0</td><td>20</td><td>0.0</td><td>0.046701856</td></tr>\n",
       "<tr><td>DES_SN111231.DAT</td><td>DES</td><td>111231</td><td>-9</td><td>griz</td><td>34.500000  deg</td><td>-5.500000  deg</td><td>3   (=&gt; BLIND-TEST simulation)</td><td>0.0227    MW E(B-V)</td><td>-9.0000 +-  9.0000</td><td>115</td><td>5</td><td>56207.164000000004 .. 0.0</td><td>20</td><td>0.0</td><td>0.05541795</td></tr>\n",
       "<tr><td>DES_SN117506.DAT</td><td>DES</td><td>117506</td><td>-9</td><td>griz</td><td>48.000000  deg</td><td>0.000000  deg</td><td>3   (=&gt; BLIND-TEST simulation)</td><td>0.0713    MW E(B-V)</td><td>-9.0000 +-  9.0000</td><td>52</td><td>5</td><td>56258.2185 .. 0.0</td><td>20</td><td>0.0</td><td>0.046701856</td></tr>\n",
       "<tr><td>DES_SN173611.DAT</td><td>DES</td><td>173611</td><td>-9</td><td>griz</td><td>36.750000  deg</td><td>-4.500000  deg</td><td>3   (=&gt; BLIND-TEST simulation)</td><td>0.0283    MW E(B-V)</td><td>-9.0000 +-  9.0000</td><td>37</td><td>5</td><td>56274.20125 .. 0.0</td><td>20</td><td>0.0</td><td>0.04918844</td></tr>\n",
       "<tr><td>DES_SN174833.DAT</td><td>DES</td><td>174833</td><td>-9</td><td>griz</td><td>52.500000  deg</td><td>-27.500000  deg</td><td>3   (=&gt; BLIND-TEST simulation)</td><td>0.0097    MW E(B-V)</td><td>-9.0000 +-  9.0000</td><td>129</td><td>5</td><td>56218.19133333333 .. 0.0</td><td>20</td><td>0.0</td><td>0.05541795</td></tr>\n",
       "<tr><td>DES_SN080482.DAT</td><td>DES</td><td>80482</td><td>-9</td><td>griz</td><td>0.500000  deg</td><td>-43.000000  deg</td><td>3   (=&gt; BLIND-TEST simulation)</td><td>0.0111    MW E(B-V)</td><td>-9.0000 +-  9.0000</td><td>60</td><td>5</td><td>56221.020500000006 .. 0.0</td><td>20</td><td>0.0</td><td>0.05541795</td></tr>\n",
       "<tr><td>DES_SN098998.DAT</td><td>DES</td><td>98998</td><td>1</td><td>griz</td><td>36.750000  deg</td><td>-4.500000  deg</td><td>3   (=&gt; BLIND-TEST simulation)</td><td>0.0283    MW E(B-V)</td><td>0.4340 +-  0.0050</td><td>21</td><td>5</td><td>56304.043 .. 0.0</td><td>20</td><td>1.0</td><td>0.04526454</td></tr>\n",
       "<tr><td>DES_SN031780.DAT</td><td>DES</td><td>31780</td><td>-9</td><td>griz</td><td>52.500000  deg</td><td>-27.500000  deg</td><td>3   (=&gt; BLIND-TEST simulation)</td><td>0.0097    MW E(B-V)</td><td>-9.0000 +-  9.0000</td><td>51</td><td>5</td><td>56281.19350000001 .. 0.0</td><td>20</td><td>0.0</td><td>0.043311834</td></tr>\n",
       "<tr><td>DES_SN006344.DAT</td><td>DES</td><td>6344</td><td>-9</td><td>griz</td><td>48.000000  deg</td><td>0.000000  deg</td><td>3   (=&gt; BLIND-TEST simulation)</td><td>0.0713    MW E(B-V)</td><td>-9.0000 +-  9.0000</td><td>96</td><td>5</td><td>56194.22166666666 .. 0.0</td><td>20</td><td>0.0</td><td>0.05541795</td></tr>\n",
       "<tr><td>DES_SN141396.DAT</td><td>DES</td><td>141396</td><td>-9</td><td>griz</td><td>52.500000  deg</td><td>-27.500000  deg</td><td>3   (=&gt; BLIND-TEST simulation)</td><td>0.0097    MW E(B-V)</td><td>-9.0000 +-  9.0000</td><td>121</td><td>5</td><td>56179.22075 .. 0.0</td><td>20</td><td>0.0</td><td>0.05541795</td></tr>\n",
       "<tr><td>...</td><td>...</td><td>...</td><td>...</td><td>...</td><td>...</td><td>...</td><td>...</td><td>...</td><td>...</td><td>...</td><td>...</td><td>...</td><td>...</td><td>...</td><td>...</td></tr>\n",
       "<tr><td>DES_SN192277.DAT</td><td>DES</td><td>192277</td><td>-9</td><td>griz</td><td>48.000000  deg</td><td>0.000000  deg</td><td>3   (=&gt; BLIND-TEST simulation)</td><td>0.0713    MW E(B-V)</td><td>-9.0000 +-  9.0000</td><td>16</td><td>5</td><td>56328.0645 .. 0.0</td><td>20</td><td>0.0</td><td>0.070389464</td></tr>\n",
       "<tr><td>DES_SN175297.DAT</td><td>DES</td><td>175297</td><td>-9</td><td>griz</td><td>0.500000  deg</td><td>-43.000000  deg</td><td>3   (=&gt; BLIND-TEST simulation)</td><td>0.0111    MW E(B-V)</td><td>-9.0000 +-  9.0000</td><td>77</td><td>5</td><td>56194.0205 .. 0.0</td><td>20</td><td>0.0</td><td>0.05541795</td></tr>\n",
       "<tr><td>DES_SN121947.DAT</td><td>DES</td><td>121947</td><td>-9</td><td>griz</td><td>52.500000  deg</td><td>-27.500000  deg</td><td>3   (=&gt; BLIND-TEST simulation)</td><td>0.0097    MW E(B-V)</td><td>-9.0000 +-  9.0000</td><td>133</td><td>5</td><td>56189.27925 .. 0.0</td><td>20</td><td>0.0</td><td>0.05541795</td></tr>\n",
       "<tr><td>DES_SN032260.DAT</td><td>DES</td><td>32260</td><td>-9</td><td>griz</td><td>34.500000  deg</td><td>-5.500000  deg</td><td>3   (=&gt; BLIND-TEST simulation)</td><td>0.0227    MW E(B-V)</td><td>-9.0000 +-  9.0000</td><td>127</td><td>5</td><td>56177.19925 .. 0.0</td><td>20</td><td>0.0</td><td>0.05541795</td></tr>\n",
       "<tr><td>DES_SN031105.DAT</td><td>DES</td><td>31105</td><td>-9</td><td>griz</td><td>36.750000  deg</td><td>-4.500000  deg</td><td>3   (=&gt; BLIND-TEST simulation)</td><td>0.0283    MW E(B-V)</td><td>-9.0000 +-  9.0000</td><td>104</td><td>5</td><td>56178.199250000005 .. 0.0</td><td>20</td><td>0.0</td><td>0.05541795</td></tr>\n",
       "<tr><td>DES_SN026612.DAT</td><td>DES</td><td>26612</td><td>-9</td><td>griz</td><td>0.500000  deg</td><td>-43.000000  deg</td><td>3   (=&gt; BLIND-TEST simulation)</td><td>0.0111    MW E(B-V)</td><td>-9.0000 +-  9.0000</td><td>45</td><td>5</td><td>56235.02 .. 0.0</td><td>20</td><td>0.0</td><td>0.05541795</td></tr>\n",
       "<tr><td>DES_SN104887.DAT</td><td>DES</td><td>104887</td><td>-9</td><td>griz</td><td>36.750000  deg</td><td>-4.500000  deg</td><td>3   (=&gt; BLIND-TEST simulation)</td><td>0.0283    MW E(B-V)</td><td>-9.0000 +-  9.0000</td><td>32</td><td>5</td><td>56283.16933333333 .. 0.0</td><td>20</td><td>0.0</td><td>0.04505766</td></tr>\n",
       "<tr><td>DES_SN119946.DAT</td><td>DES</td><td>119946</td><td>-9</td><td>griz</td><td>34.500000  deg</td><td>-5.500000  deg</td><td>3   (=&gt; BLIND-TEST simulation)</td><td>0.0227    MW E(B-V)</td><td>-9.0000 +-  9.0000</td><td>124</td><td>5</td><td>56177.19925 .. 0.0</td><td>20</td><td>0.0</td><td>0.05541795</td></tr>\n",
       "<tr><td>DES_SN198050.DAT</td><td>DES</td><td>198050</td><td>-9</td><td>griz</td><td>36.750000  deg</td><td>-4.500000  deg</td><td>3   (=&gt; BLIND-TEST simulation)</td><td>0.0283    MW E(B-V)</td><td>-9.0000 +-  9.0000</td><td>99</td><td>5</td><td>56178.199250000005 .. 0.0</td><td>20</td><td>0.0</td><td>0.05541795</td></tr>\n",
       "<tr><td>DES_SN151078.DAT</td><td>DES</td><td>151078</td><td>-9</td><td>griz</td><td>34.500000  deg</td><td>-5.500000  deg</td><td>3   (=&gt; BLIND-TEST simulation)</td><td>0.0227    MW E(B-V)</td><td>-9.0000 +-  9.0000</td><td>12</td><td>5</td><td>56326.039 .. 0.0</td><td>20</td><td>0.0</td><td>0.070389435</td></tr>\n",
       "</table>"
      ],
      "text/plain": [
       "<Table length=3347>\n",
       "    FILENAME      SURVEY     SNID     SNTYPE ... obs_len  label       p     \n",
       "    bytes16       bytes7   bytes12    bytes5 ...  int64  float64   float32  \n",
       "---------------- ------- ------------ ------ ... ------- ------- -----------\n",
       "DES_SN137918.DAT DES   \n",
       "   137918   \n",
       "   -9 \n",
       " ...      20     0.0 0.046701856\n",
       "DES_SN111231.DAT DES   \n",
       "   111231   \n",
       "   -9 \n",
       " ...      20     0.0  0.05541795\n",
       "DES_SN117506.DAT DES   \n",
       "   117506   \n",
       "   -9 \n",
       " ...      20     0.0 0.046701856\n",
       "DES_SN173611.DAT DES   \n",
       "   173611   \n",
       "   -9 \n",
       " ...      20     0.0  0.04918844\n",
       "DES_SN174833.DAT DES   \n",
       "   174833   \n",
       "   -9 \n",
       " ...      20     0.0  0.05541795\n",
       "DES_SN080482.DAT DES   \n",
       "    80482   \n",
       "   -9 \n",
       " ...      20     0.0  0.05541795\n",
       "DES_SN098998.DAT DES   \n",
       "    98998   \n",
       "    1 \n",
       " ...      20     1.0  0.04526454\n",
       "DES_SN031780.DAT DES   \n",
       "    31780   \n",
       "   -9 \n",
       " ...      20     0.0 0.043311834\n",
       "DES_SN006344.DAT DES   \n",
       "     6344   \n",
       "   -9 \n",
       " ...      20     0.0  0.05541795\n",
       "DES_SN141396.DAT DES   \n",
       "   141396   \n",
       "   -9 \n",
       " ...      20     0.0  0.05541795\n",
       "             ...     ...          ...    ... ...     ...     ...         ...\n",
       "DES_SN192277.DAT DES   \n",
       "   192277   \n",
       "   -9 \n",
       " ...      20     0.0 0.070389464\n",
       "DES_SN175297.DAT DES   \n",
       "   175297   \n",
       "   -9 \n",
       " ...      20     0.0  0.05541795\n",
       "DES_SN121947.DAT DES   \n",
       "   121947   \n",
       "   -9 \n",
       " ...      20     0.0  0.05541795\n",
       "DES_SN032260.DAT DES   \n",
       "    32260   \n",
       "   -9 \n",
       " ...      20     0.0  0.05541795\n",
       "DES_SN031105.DAT DES   \n",
       "    31105   \n",
       "   -9 \n",
       " ...      20     0.0  0.05541795\n",
       "DES_SN026612.DAT DES   \n",
       "    26612   \n",
       "   -9 \n",
       " ...      20     0.0  0.05541795\n",
       "DES_SN104887.DAT DES   \n",
       "   104887   \n",
       "   -9 \n",
       " ...      20     0.0  0.04505766\n",
       "DES_SN119946.DAT DES   \n",
       "   119946   \n",
       "   -9 \n",
       " ...      20     0.0  0.05541795\n",
       "DES_SN198050.DAT DES   \n",
       "   198050   \n",
       "   -9 \n",
       " ...      20     0.0  0.05541795\n",
       "DES_SN151078.DAT DES   \n",
       "   151078   \n",
       "   -9 \n",
       " ...      20     0.0 0.070389435"
      ]
     },
     "execution_count": 42,
     "metadata": {},
     "output_type": "execute_result"
    }
   ],
   "source": [
    "table_test"
   ]
  },
  {
   "cell_type": "code",
   "execution_count": null,
   "metadata": {},
   "outputs": [],
   "source": []
  }
 ],
 "metadata": {
  "kernelspec": {
   "display_name": "Python 3",
   "language": "python",
   "name": "python3"
  },
  "language_info": {
   "codemirror_mode": {
    "name": "ipython",
    "version": 3
   },
   "file_extension": ".py",
   "mimetype": "text/x-python",
   "name": "python",
   "nbconvert_exporter": "python",
   "pygments_lexer": "ipython3",
   "version": "3.6.5"
  }
 },
 "nbformat": 4,
 "nbformat_minor": 2
}
