{
 "cells": [
  {
   "cell_type": "code",
   "execution_count": 29,
   "metadata": {},
   "outputs": [],
   "source": [
    "from astropy.io import ascii\n",
    "from astropy.io import fits\n",
    "from astropy.table import Table\n",
    "import matplotlib.pyplot as plt\n",
    "import re\n",
    "import numpy as np\n",
    "import copy\n",
    "\n",
    "def getData(folder, filename): #I'm finally using python properly\n",
    "    rdr = ascii.get_reader(Reader=ascii.Basic)\n",
    "    rdr.header.splitter.delimiter = ' '\n",
    "    rdr.data.splitter.delimiter = ' '\n",
    "    if folder == 'DES_BLINDnoHOSTZ':\n",
    "        rdr.header.start_line = 12\n",
    "        rdr.data.start_line = 13\n",
    "    else:\n",
    "        rdr.header.start_line = 14\n",
    "        rdr.data.start_line = 15\n",
    "    rdr.data.end_line = None\n",
    "    \n",
    "    t = rdr.read('%s/%s' % (folder, filename))\n",
    "    FLT = t['FLT']\n",
    "    \n",
    "    MJD = t['MJD']\n",
    "    IMJD = copy.deepcopy(MJD)\n",
    "    for i in range(len(IMJD)):\n",
    "        IMJD[i] = int(IMJD[i])\n",
    "    UIMJD, indices = np.unique(IMJD, return_index=True)\n",
    "    \n",
    "    gFlux = np.array(t['FLUXCAL'][FLT == 'g'])\n",
    "    rFlux = np.array(t['FLUXCAL'][FLT == 'r'])\n",
    "    iFlux = np.array(t['FLUXCAL'][FLT == 'i'])\n",
    "    zFlux = np.array(t['FLUXCAL'][FLT == 'z'])\n",
    "    gErr = np.array(t['FLUXCALERR'][FLT == 'g'])\n",
    "    rErr = np.array(t['FLUXCALERR'][FLT == 'r'])\n",
    "    iErr = np.array(t['FLUXCALERR'][FLT == 'i'])\n",
    "    zErr = np.array(t['FLUXCALERR'][FLT == 'z'])\n",
    "    maxL = max(len(gFlux),len(rFlux), len(iFlux), len(zFlux))\n",
    "    \n",
    "    ts = np.zeros((50, 9))\n",
    "        \n",
    "    for i in range(len(indices)-1):\n",
    "        start = indices[i]\n",
    "        end = indices[i+1]\n",
    "        TMJD = 0\n",
    "        for j in range(start,end):\n",
    "            flux = t['FLUXCAL'][j]\n",
    "            error = t['FLUXCALERR'][j]\n",
    "            TMJD += t['MJD'][j]\n",
    "            if FLT[j] =='g':\n",
    "                ts[i,1] = flux\n",
    "                ts[i,5] = error\n",
    "            elif FLT[j] =='r':\n",
    "                ts[i,2] = flux\n",
    "                ts[i,6] = error\n",
    "            elif FLT[j] =='i':\n",
    "                ts[i,3] = flux\n",
    "                ts[i,7] = error\n",
    "            else:  # FLT[j] =='z'\n",
    "                ts[i,4] = flux\n",
    "                ts[i,8] = error\n",
    "        ts[i,0] = TMJD/(end-start)\n",
    "            \n",
    "        \n",
    "    return ts\n",
    "    \n",
    "def getInfo(info, file):\n",
    "    for line in file:\n",
    "        if line.startswith('%s' % info):\n",
    "            return line[(len(info)+2)::] #might have extra spaces in front and it's a string\n",
    "    return None\n",
    "\n",
    "folder= 'DES_BLINDnoHOSTZ'\n",
    "\n",
    "#folder: no vs +\n",
    "#infoL: info list. eg. 'SNID', 'SNTYPE', 'FILTERS', 'RA', 'DECL', 'FAKE', 'MWEBV', ETC.\n",
    "#totalNum: total number of supernovae in the foler. Might be improved to automatically going through all files in a folder\n",
    "if folder == 'DES_BLINDnoHOSTZ':\n",
    "    colName = 'DES_SN000018.DAT'\n",
    "    totalNum = 18347\n",
    "    infoL = ['SURVEY','SNID', 'SNTYPE', 'FILTERS', 'RA', 'DECL', 'FAKE', 'MWEBV', 'REDSHIFT_SPE','NOBS', 'NVAR']\n",
    "else:\n",
    "    colName = 'DES_SN000041.DAT'\n",
    "    totalNum = 18320\n",
    "    infoL = ['SURVEY','SNID','SNTYPE','FILTERS','RA','DECL','FAKE','MWEBV','REDSHIFT_SPE','HOST_GALAXY_GALID','HOST_GALAXY_PHOTO-Z','NOBS','NVAR']\n",
    "\n",
    "list = ascii.read('%s/%s.LIST' % (folder, folder), data_start = 0)\n",
    "table = dict()\n",
    "for i in infoL:\n",
    "    table[i] = []\n",
    "table['FILENAME'] = []\n",
    "table['DATA'] = []\n",
    "#table\n",
    "for i in range(totalNum):\n",
    "    with open(folder + '/' + list[colName][i]) as f:\n",
    "        table['FILENAME'] += [list[colName][i]]\n",
    "        table['DATA'] += [getData(folder, list[colName][i])]\n",
    "        for j in infoL:\n",
    "            table[j] += [getInfo(j, f)]\n",
    "infoList = [table['FILENAME']]\n",
    "for i in infoL:\n",
    "    infoList += [table[i]]\n",
    "infoList += [table['DATA']]"
   ]
  },
  {
   "cell_type": "code",
   "execution_count": 30,
   "metadata": {},
   "outputs": [],
   "source": [
    "output = Table(infoList, names = ['FILENAME']+infoL+['DATA'])"
   ]
  },
  {
   "cell_type": "code",
   "execution_count": 31,
   "metadata": {},
   "outputs": [
    {
     "data": {
      "text/html": [
       "<i>Table length=18347</i>\n",
       "<table id=\"table4456220992\" class=\"table-striped table-bordered table-condensed\">\n",
       "<thead><tr><th>FILENAME</th><th>SURVEY</th><th>SNID</th><th>SNTYPE</th><th>FILTERS</th><th>RA</th><th>DECL</th><th>FAKE</th><th>MWEBV</th><th>REDSHIFT_SPE</th><th>NOBS</th><th>NVAR</th><th>DATA [50,9]</th></tr></thead>\n",
       "<thead><tr><th>str16</th><th>str7</th><th>str12</th><th>str5</th><th>str6</th><th>str21</th><th>str20</th><th>str35</th><th>str23</th><th>str25</th><th>str5</th><th>str3</th><th>float64</th></tr></thead>\n",
       "<tr><td>DES_SN000018.DAT</td><td>DES</td><td>18</td><td>-9</td><td>griz</td><td>34.500000  deg</td><td>-5.500000  deg</td><td>3   (=&gt; BLIND-TEST simulation)</td><td>0.0227    MW E(B-V)</td><td>-9.0000 +-  9.0000</td><td>118</td><td>5</td><td>56187.18175 .. 0.0</td></tr>\n",
       "<tr><td>DES_SN000050.DAT</td><td>DES</td><td>50</td><td>-9</td><td>griz</td><td>36.750000  deg</td><td>-4.500000  deg</td><td>3   (=&gt; BLIND-TEST simulation)</td><td>0.0283    MW E(B-V)</td><td>-9.0000 +-  9.0000</td><td>16</td><td>5</td><td>56318.07666666667 .. 0.0</td></tr>\n",
       "<tr><td>DES_SN000051.DAT</td><td>DES</td><td>51</td><td>1</td><td>griz</td><td>52.500000  deg</td><td>-27.500000  deg</td><td>3   (=&gt; BLIND-TEST simulation)</td><td>0.0097    MW E(B-V)</td><td>0.5177 +-  0.0050</td><td>121</td><td>5</td><td>56194.2795 .. 0.0</td></tr>\n",
       "<tr><td>DES_SN000063.DAT</td><td>DES</td><td>63</td><td>-9</td><td>griz</td><td>34.500000  deg</td><td>-5.500000  deg</td><td>3   (=&gt; BLIND-TEST simulation)</td><td>0.0227    MW E(B-V)</td><td>-9.0000 +-  9.0000</td><td>115</td><td>5</td><td>56177.19925 .. 0.0</td></tr>\n",
       "<tr><td>DES_SN000064.DAT</td><td>DES</td><td>64</td><td>-9</td><td>griz</td><td>48.000000  deg</td><td>0.000000  deg</td><td>3   (=&gt; BLIND-TEST simulation)</td><td>0.0713    MW E(B-V)</td><td>-9.0000 +-  9.0000</td><td>92</td><td>5</td><td>56194.22166666666 .. 0.0</td></tr>\n",
       "<tr><td>DES_SN000096.DAT</td><td>DES</td><td>96</td><td>-9</td><td>griz</td><td>34.500000  deg</td><td>-5.500000  deg</td><td>3   (=&gt; BLIND-TEST simulation)</td><td>0.0227    MW E(B-V)</td><td>-9.0000 +-  9.0000</td><td>104</td><td>5</td><td>56215.172 .. 0.0</td></tr>\n",
       "<tr><td>DES_SN000122.DAT</td><td>DES</td><td>122</td><td>-9</td><td>griz</td><td>34.500000  deg</td><td>-5.500000  deg</td><td>3   (=&gt; BLIND-TEST simulation)</td><td>0.0227    MW E(B-V)</td><td>-9.0000 +-  9.0000</td><td>11</td><td>5</td><td>56333.047 .. 0.0</td></tr>\n",
       "<tr><td>DES_SN000124.DAT</td><td>DES</td><td>124</td><td>-9</td><td>griz</td><td>48.000000  deg</td><td>0.000000  deg</td><td>3   (=&gt; BLIND-TEST simulation)</td><td>0.0713    MW E(B-V)</td><td>-9.0000 +-  9.0000</td><td>95</td><td>5</td><td>56178.25 .. 0.0</td></tr>\n",
       "<tr><td>DES_SN000156.DAT</td><td>DES</td><td>156</td><td>-9</td><td>griz</td><td>36.750000  deg</td><td>-4.500000  deg</td><td>3   (=&gt; BLIND-TEST simulation)</td><td>0.0283    MW E(B-V)</td><td>-9.0000 +-  9.0000</td><td>87</td><td>5</td><td>56178.199250000005 .. 0.0</td></tr>\n",
       "<tr><td>DES_SN000177.DAT</td><td>DES</td><td>177</td><td>-9</td><td>griz</td><td>0.500000  deg</td><td>-43.000000  deg</td><td>3   (=&gt; BLIND-TEST simulation)</td><td>0.0111    MW E(B-V)</td><td>-9.0000 +-  9.0000</td><td>45</td><td>5</td><td>56235.02 .. 0.0</td></tr>\n",
       "<tr><td>...</td><td>...</td><td>...</td><td>...</td><td>...</td><td>...</td><td>...</td><td>...</td><td>...</td><td>...</td><td>...</td><td>...</td><td>...</td></tr>\n",
       "<tr><td>DES_SN199804.DAT</td><td>DES</td><td>199804</td><td>-9</td><td>griz</td><td>36.750000  deg</td><td>-4.500000  deg</td><td>3   (=&gt; BLIND-TEST simulation)</td><td>0.0283    MW E(B-V)</td><td>-9.0000 +-  9.0000</td><td>116</td><td>5</td><td>56178.199250000005 .. 0.0</td></tr>\n",
       "<tr><td>DES_SN199809.DAT</td><td>DES</td><td>199809</td><td>-9</td><td>griz</td><td>52.500000  deg</td><td>-27.500000  deg</td><td>3   (=&gt; BLIND-TEST simulation)</td><td>0.0097    MW E(B-V)</td><td>-9.0000 +-  9.0000</td><td>105</td><td>5</td><td>56210.19925 .. 0.0</td></tr>\n",
       "<tr><td>DES_SN199836.DAT</td><td>DES</td><td>199836</td><td>-9</td><td>griz</td><td>0.500000  deg</td><td>-43.000000  deg</td><td>3   (=&gt; BLIND-TEST simulation)</td><td>0.0111    MW E(B-V)</td><td>-9.0000 +-  9.0000</td><td>8</td><td>5</td><td>56305.05475 .. 0.0</td></tr>\n",
       "<tr><td>DES_SN199840.DAT</td><td>DES</td><td>199840</td><td>-9</td><td>griz</td><td>52.500000  deg</td><td>-27.500000  deg</td><td>3   (=&gt; BLIND-TEST simulation)</td><td>0.0097    MW E(B-V)</td><td>-9.0000 +-  9.0000</td><td>63</td><td>5</td><td>56258.13575 .. 0.0</td></tr>\n",
       "<tr><td>DES_SN199843.DAT</td><td>DES</td><td>199843</td><td>-9</td><td>griz</td><td>36.750000  deg</td><td>-4.500000  deg</td><td>3   (=&gt; BLIND-TEST simulation)</td><td>0.0283    MW E(B-V)</td><td>-9.0000 +-  9.0000</td><td>110</td><td>5</td><td>56180.1895 .. 0.0</td></tr>\n",
       "<tr><td>DES_SN199863.DAT</td><td>DES</td><td>199863</td><td>-9</td><td>griz</td><td>34.500000  deg</td><td>-5.500000  deg</td><td>3   (=&gt; BLIND-TEST simulation)</td><td>0.0227    MW E(B-V)</td><td>-9.0000 +-  9.0000</td><td>100</td><td>5</td><td>56221.139500000005 .. 0.0</td></tr>\n",
       "<tr><td>DES_SN199866.DAT</td><td>DES</td><td>199866</td><td>-9</td><td>griz</td><td>36.750000  deg</td><td>-4.500000  deg</td><td>3   (=&gt; BLIND-TEST simulation)</td><td>0.0283    MW E(B-V)</td><td>-9.0000 +-  9.0000</td><td>57</td><td>5</td><td>56243.168000000005 .. 0.0</td></tr>\n",
       "<tr><td>DES_SN199900.DAT</td><td>DES</td><td>199900</td><td>-9</td><td>griz</td><td>52.500000  deg</td><td>-27.500000  deg</td><td>3   (=&gt; BLIND-TEST simulation)</td><td>0.0097    MW E(B-V)</td><td>-9.0000 +-  9.0000</td><td>117</td><td>5</td><td>56228.08 .. 0.0</td></tr>\n",
       "<tr><td>DES_SN199953.DAT</td><td>DES</td><td>199953</td><td>-9</td><td>griz</td><td>34.500000  deg</td><td>-5.500000  deg</td><td>3   (=&gt; BLIND-TEST simulation)</td><td>0.0227    MW E(B-V)</td><td>-9.0000 +-  9.0000</td><td>120</td><td>5</td><td>56177.19925 .. 0.0</td></tr>\n",
       "<tr><td>DES_SN199968.DAT</td><td>DES</td><td>199968</td><td>-9</td><td>griz</td><td>48.000000  deg</td><td>0.000000  deg</td><td>3   (=&gt; BLIND-TEST simulation)</td><td>0.0713    MW E(B-V)</td><td>-9.0000 +-  9.0000</td><td>109</td><td>5</td><td>56200.234 .. 0.0</td></tr>\n",
       "</table>"
      ],
      "text/plain": [
       "<Table length=18347>\n",
       "    FILENAME      SURVEY     SNID     ...  NOBS NVAR        DATA [50,9]       \n",
       "     str16         str7     str12     ...  str5 str3          float64         \n",
       "---------------- ------- ------------ ... ----- ---- -------------------------\n",
       "DES_SN000018.DAT DES   \n",
       "       18   \n",
       " ... 118 \n",
       "  5 \n",
       "        56187.18175 .. 0.0\n",
       "DES_SN000050.DAT DES   \n",
       "       50   \n",
       " ...  16 \n",
       "  5 \n",
       "  56318.07666666667 .. 0.0\n",
       "DES_SN000051.DAT DES   \n",
       "       51   \n",
       " ... 121 \n",
       "  5 \n",
       "         56194.2795 .. 0.0\n",
       "DES_SN000063.DAT DES   \n",
       "       63   \n",
       " ... 115 \n",
       "  5 \n",
       "        56177.19925 .. 0.0\n",
       "DES_SN000064.DAT DES   \n",
       "       64   \n",
       " ...  92 \n",
       "  5 \n",
       "  56194.22166666666 .. 0.0\n",
       "DES_SN000096.DAT DES   \n",
       "       96   \n",
       " ... 104 \n",
       "  5 \n",
       "          56215.172 .. 0.0\n",
       "DES_SN000122.DAT DES   \n",
       "      122   \n",
       " ...  11 \n",
       "  5 \n",
       "          56333.047 .. 0.0\n",
       "DES_SN000124.DAT DES   \n",
       "      124   \n",
       " ...  95 \n",
       "  5 \n",
       "           56178.25 .. 0.0\n",
       "DES_SN000156.DAT DES   \n",
       "      156   \n",
       " ...  87 \n",
       "  5 \n",
       " 56178.199250000005 .. 0.0\n",
       "DES_SN000177.DAT DES   \n",
       "      177   \n",
       " ...  45 \n",
       "  5 \n",
       "           56235.02 .. 0.0\n",
       "             ...     ...          ... ...   ...  ...                       ...\n",
       "DES_SN199804.DAT DES   \n",
       "   199804   \n",
       " ... 116 \n",
       "  5 \n",
       " 56178.199250000005 .. 0.0\n",
       "DES_SN199809.DAT DES   \n",
       "   199809   \n",
       " ... 105 \n",
       "  5 \n",
       "        56210.19925 .. 0.0\n",
       "DES_SN199836.DAT DES   \n",
       "   199836   \n",
       " ...   8 \n",
       "  5 \n",
       "        56305.05475 .. 0.0\n",
       "DES_SN199840.DAT DES   \n",
       "   199840   \n",
       " ...  63 \n",
       "  5 \n",
       "        56258.13575 .. 0.0\n",
       "DES_SN199843.DAT DES   \n",
       "   199843   \n",
       " ... 110 \n",
       "  5 \n",
       "         56180.1895 .. 0.0\n",
       "DES_SN199863.DAT DES   \n",
       "   199863   \n",
       " ... 100 \n",
       "  5 \n",
       " 56221.139500000005 .. 0.0\n",
       "DES_SN199866.DAT DES   \n",
       "   199866   \n",
       " ...  57 \n",
       "  5 \n",
       " 56243.168000000005 .. 0.0\n",
       "DES_SN199900.DAT DES   \n",
       "   199900   \n",
       " ... 117 \n",
       "  5 \n",
       "           56228.08 .. 0.0\n",
       "DES_SN199953.DAT DES   \n",
       "   199953   \n",
       " ... 120 \n",
       "  5 \n",
       "        56177.19925 .. 0.0\n",
       "DES_SN199968.DAT DES   \n",
       "   199968   \n",
       " ... 109 \n",
       "  5 \n",
       "          56200.234 .. 0.0"
      ]
     },
     "execution_count": 31,
     "metadata": {},
     "output_type": "execute_result"
    }
   ],
   "source": [
    "output"
   ]
  },
  {
   "cell_type": "code",
   "execution_count": 35,
   "metadata": {},
   "outputs": [
    {
     "name": "stdout",
     "output_type": "stream",
     "text": [
      "Populating the interactive namespace from numpy and matplotlib\n"
     ]
    },
    {
     "name": "stderr",
     "output_type": "stream",
     "text": [
      "/Users/apple/Library/Python/3.6/lib/python/site-packages/IPython/core/magics/pylab.py:160: UserWarning: pylab import has clobbered these variables: ['f', 'copy', 'table']\n",
      "`%matplotlib` prevents importing * from pylab and numpy\n",
      "  \"\\n`%matplotlib` prevents importing * from pylab and numpy\"\n"
     ]
    }
   ],
   "source": [
    "%pylab inline"
   ]
  },
  {
   "cell_type": "code",
   "execution_count": 55,
   "metadata": {},
   "outputs": [
    {
     "data": {
      "text/plain": [
       "[<matplotlib.lines.Line2D at 0x10ad041d0>]"
      ]
     },
     "execution_count": 55,
     "metadata": {},
     "output_type": "execute_result"
    },
    {
     "data": {
      "image/png": "[encoded data removed]",
      "text/plain": [
       "<Figure size 432x288 with 1 Axes>"
      ]
     },
     "metadata": {},
     "output_type": "display_data"
    }
   ],
   "source": [
    "plot(output['DATA'][0][:20,0], output['DATA'][0][:20,1],'+')\n",
    "plot(output['DATA'][0][:20,0], output['DATA'][0][:20,2],'+')\n",
    "plot(output['DATA'][0][:20,0], output['DATA'][0][:20,3],'+')\n",
    "plot(output['DATA'][0][:20,0], output['DATA'][0][:20,4],'+')"
   ]
  },
  {
   "cell_type": "code",
   "execution_count": 68,
   "metadata": {},
   "outputs": [
    {
     "data": {
      "text/plain": [
       "56.86717604825095"
      ]
     },
     "execution_count": 68,
     "metadata": {},
     "output_type": "execute_result"
    }
   ],
   "source": [
    "std(output['DATA'][:,0:20,1])"
   ]
  },
  {
   "cell_type": "code",
   "execution_count": 78,
   "metadata": {},
   "outputs": [
    {
     "data": {
      "image/png": "[encoded data removed]",
      "text/plain": [
       "<Figure size 432x288 with 1 Axes>"
      ]
     },
     "metadata": {},
     "output_type": "display_data"
    }
   ],
   "source": [
    "m = output['DATA'][:,:,1].flatten() != 0\n",
    "hist(output['DATA'][:,:,1].flatten()[m]/58,100,range=[-3,3]);"
   ]
  },
  {
   "cell_type": "code",
   "execution_count": 76,
   "metadata": {},
   "outputs": [
    {
     "data": {
      "text/plain": [
       "58.31917073825026"
      ]
     },
     "execution_count": 76,
     "metadata": {},
     "output_type": "execute_result"
    }
   ],
   "source": [
    "std(output['DATA'][:,:,1].flatten()[m])"
   ]
  },
  {
   "cell_type": "code",
   "execution_count": 58,
   "metadata": {},
   "outputs": [
    {
     "data": {
      "text/plain": [
       "array([56187.18175, 56189.17175, 56194.125  , 56200.168  , 56207.164  ,\n",
       "       56209.203  , 56215.172  , 56217.1715 , 56221.1395 , 56222.12775,\n",
       "       56228.1055 , 56229.1395 , 56230.121  , 56231.1385 , 56235.168  ,\n",
       "       56236.18175, 56237.20225, 56238.214  , 56243.22175, 56244.1985 ])"
      ]
     },
     "execution_count": 58,
     "metadata": {},
     "output_type": "execute_result"
    }
   ],
   "source": [
    "output['DATA'][0][:20,0]"
   ]
  },
  {
   "cell_type": "code",
   "execution_count": 57,
   "metadata": {},
   "outputs": [
    {
     "data": {
      "image/png": "[encoded data removed]",
      "text/plain": [
       "<Figure size 432x288 with 1 Axes>"
      ]
     },
     "metadata": {},
     "output_type": "display_data"
    }
   ],
   "source": [
    "hist(output['DATA'][0][1:21,0]-output['DATA'][0][0:20,0],100);"
   ]
  },
  {
   "cell_type": "code",
   "execution_count": 59,
   "metadata": {},
   "outputs": [
    {
     "data": {
      "text/plain": [
       "array([1.99   , 4.95325, 6.043  , 6.996  , 2.039  , 5.969  , 1.9995 ,\n",
       "       3.968  , 0.98825, 5.97775, 1.034  , 0.9815 , 1.0175 , 4.0295 ,\n",
       "       1.01375, 1.0205 , 1.01175, 5.00775, 0.97675, 1.01525])"
      ]
     },
     "execution_count": 59,
     "metadata": {},
     "output_type": "execute_result"
    }
   ],
   "source": [
    "output['DATA'][0][1:21,0]-output['DATA'][0][0:20,0]"
   ]
  },
  {
   "cell_type": "code",
   "execution_count": 53,
   "metadata": {},
   "outputs": [
    {
     "data": {
      "text/plain": [
       "array([ 1.703,  9.761,  3.774,  0.   ,  2.307,  0.   ,  1.626,  0.   ,\n",
       "        4.495,  6.427, 26.12 , 30.75 ,  9.32 ,  7.696,  3.792,  2.006,\n",
       "        3.444,  2.975,  1.692,  1.784,  4.788,  2.001,  1.753,  8.081,\n",
       "        0.   ,  3.959,  0.   ,  2.033,  0.   ,  0.   ,  3.404,  0.   ,\n",
       "       11.89 ,  1.58 ,  1.644,  0.   ,  5.96 ,  0.   ,  2.914,  0.   ,\n",
       "        0.   ,  0.   ,  0.   ,  0.   ,  0.   ,  0.   ,  0.   ,  0.   ,\n",
       "        0.   ,  0.   ])"
      ]
     },
     "execution_count": 53,
     "metadata": {},
     "output_type": "execute_result"
    }
   ],
   "source": [
    "output['DATA'][0][:,5]"
   ]
  },
  {
   "cell_type": "code",
   "execution_count": 60,
   "metadata": {},
   "outputs": [],
   "source": [
    "output.write('table_test1.fits')"
   ]
  },
  {
   "cell_type": "code",
   "execution_count": null,
   "metadata": {},
   "outputs": [],
   "source": []
  }
 ],
 "metadata": {
  "kernelspec": {
   "display_name": "Python 3",
   "language": "python",
   "name": "python3"
  },
  "language_info": {
   "codemirror_mode": {
    "name": "ipython",
    "version": 3
   },
   "file_extension": ".py",
   "mimetype": "text/x-python",
   "name": "python",
   "nbconvert_exporter": "python",
   "pygments_lexer": "ipython3",
   "version": "3.6.5"
  }
 },
 "nbformat": 4,
 "nbformat_minor": 2
}
