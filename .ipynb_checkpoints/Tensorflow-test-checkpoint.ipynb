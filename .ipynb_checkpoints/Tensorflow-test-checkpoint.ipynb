{
 "cells": [
  {
   "cell_type": "code",
   "execution_count": 1,
   "metadata": {},
   "outputs": [
    {
     "name": "stdout",
     "output_type": "stream",
     "text": [
      "Populating the interactive namespace from numpy and matplotlib\n"
     ]
    }
   ],
   "source": [
    "%pylab inline\n",
    "from astropy.table import Table\n",
    "from rnn import RNNClassifier\n",
    "import tensorflow as tf"
   ]
  },
  {
   "cell_type": "code",
   "execution_count": 2,
   "metadata": {},
   "outputs": [],
   "source": [
    "# Loading dataset\n",
    "data_table = Table.read('normalized_no_clip.fits')"
   ]
  },
  {
   "cell_type": "code",
   "execution_count": 3,
   "metadata": {},
   "outputs": [
    {
     "data": {
      "text/html": [
       "<i>Table length=18347</i>\n",
       "<table id=\"table4814671096\" class=\"table-striped table-bordered table-condensed\">\n",
       "<thead><tr><th>FILENAME</th><th>SURVEY</th><th>SNID</th><th>SNTYPE</th><th>FILTERS</th><th>RA</th><th>DECL</th><th>FAKE</th><th>MWEBV</th><th>REDSHIFT_SPE</th><th>NOBS</th><th>NVAR</th><th>DATA [50,9]</th><th>obs_length</th><th>num_data_points</th></tr></thead>\n",
       "<thead><tr><th>bytes16</th><th>bytes7</th><th>bytes12</th><th>bytes5</th><th>bytes6</th><th>bytes21</th><th>bytes20</th><th>bytes35</th><th>bytes23</th><th>bytes25</th><th>bytes5</th><th>bytes3</th><th>float64</th><th>float64</th><th>int64</th></tr></thead>\n",
       "<tr><td>DES_SN000018.DAT</td><td>DES</td><td>18</td><td>-9</td><td>griz</td><td>34.500000  deg</td><td>-5.500000  deg</td><td>3   (=&gt; BLIND-TEST simulation)</td><td>0.0227    MW E(B-V)</td><td>-9.0000 +-  9.0000</td><td>118</td><td>5</td><td>0.0 .. 0.0</td><td>145.8949999999968</td><td>41</td></tr>\n",
       "<tr><td>DES_SN000050.DAT</td><td>DES</td><td>50</td><td>-9</td><td>griz</td><td>36.750000  deg</td><td>-4.500000  deg</td><td>3   (=&gt; BLIND-TEST simulation)</td><td>0.0283    MW E(B-V)</td><td>-9.0000 +-  9.0000</td><td>16</td><td>5</td><td>0.0 .. 0.0</td><td>30.93000000000029</td><td>9</td></tr>\n",
       "<tr><td>DES_SN000051.DAT</td><td>DES</td><td>51</td><td>1</td><td>griz</td><td>52.500000  deg</td><td>-27.500000  deg</td><td>3   (=&gt; BLIND-TEST simulation)</td><td>0.0097    MW E(B-V)</td><td>0.5177 +-  0.0050</td><td>121</td><td>5</td><td>0.0 .. 0.0</td><td>126.88300000000163</td><td>33</td></tr>\n",
       "<tr><td>DES_SN000063.DAT</td><td>DES</td><td>63</td><td>-9</td><td>griz</td><td>34.500000  deg</td><td>-5.500000  deg</td><td>3   (=&gt; BLIND-TEST simulation)</td><td>0.0227    MW E(B-V)</td><td>-9.0000 +-  9.0000</td><td>115</td><td>5</td><td>0.0 .. 0.0</td><td>127.9409999999989</td><td>37</td></tr>\n",
       "<tr><td>DES_SN000064.DAT</td><td>DES</td><td>64</td><td>-9</td><td>griz</td><td>48.000000  deg</td><td>0.000000  deg</td><td>3   (=&gt; BLIND-TEST simulation)</td><td>0.0713    MW E(B-V)</td><td>-9.0000 +-  9.0000</td><td>92</td><td>5</td><td>0.0 .. 0.0</td><td>117.89800000000105</td><td>31</td></tr>\n",
       "<tr><td>DES_SN000096.DAT</td><td>DES</td><td>96</td><td>-9</td><td>griz</td><td>34.500000  deg</td><td>-5.500000  deg</td><td>3   (=&gt; BLIND-TEST simulation)</td><td>0.0227    MW E(B-V)</td><td>-9.0000 +-  9.0000</td><td>104</td><td>5</td><td>0.0 .. 0.0</td><td>119.87900000000081</td><td>37</td></tr>\n",
       "<tr><td>DES_SN000122.DAT</td><td>DES</td><td>122</td><td>-9</td><td>griz</td><td>34.500000  deg</td><td>-5.500000  deg</td><td>3   (=&gt; BLIND-TEST simulation)</td><td>0.0227    MW E(B-V)</td><td>-9.0000 +-  9.0000</td><td>11</td><td>5</td><td>0.0 .. 0.0</td><td>17.95300000000134</td><td>7</td></tr>\n",
       "<tr><td>DES_SN000124.DAT</td><td>DES</td><td>124</td><td>-9</td><td>griz</td><td>48.000000  deg</td><td>0.000000  deg</td><td>3   (=&gt; BLIND-TEST simulation)</td><td>0.0713    MW E(B-V)</td><td>-9.0000 +-  9.0000</td><td>95</td><td>5</td><td>0.0 .. 0.0</td><td>113.96500000000378</td><td>34</td></tr>\n",
       "<tr><td>DES_SN000156.DAT</td><td>DES</td><td>156</td><td>-9</td><td>griz</td><td>36.750000  deg</td><td>-4.500000  deg</td><td>3   (=&gt; BLIND-TEST simulation)</td><td>0.0283    MW E(B-V)</td><td>-9.0000 +-  9.0000</td><td>87</td><td>5</td><td>0.0 .. 0.0</td><td>96.0309999999954</td><td>25</td></tr>\n",
       "<tr><td>DES_SN000177.DAT</td><td>DES</td><td>177</td><td>-9</td><td>griz</td><td>0.500000  deg</td><td>-43.000000  deg</td><td>3   (=&gt; BLIND-TEST simulation)</td><td>0.0111    MW E(B-V)</td><td>-9.0000 +-  9.0000</td><td>45</td><td>5</td><td>0.0 .. 0.0</td><td>83.0150000000067</td><td>22</td></tr>\n",
       "<tr><td>...</td><td>...</td><td>...</td><td>...</td><td>...</td><td>...</td><td>...</td><td>...</td><td>...</td><td>...</td><td>...</td><td>...</td><td>...</td><td>...</td><td>...</td></tr>\n",
       "<tr><td>DES_SN199804.DAT</td><td>DES</td><td>199804</td><td>-9</td><td>griz</td><td>36.750000  deg</td><td>-4.500000  deg</td><td>3   (=&gt; BLIND-TEST simulation)</td><td>0.0283    MW E(B-V)</td><td>-9.0000 +-  9.0000</td><td>116</td><td>5</td><td>0.0 .. 0.0</td><td>159.85499999999593</td><td>41</td></tr>\n",
       "<tr><td>DES_SN199809.DAT</td><td>DES</td><td>199809</td><td>-9</td><td>griz</td><td>52.500000  deg</td><td>-27.500000  deg</td><td>3   (=&gt; BLIND-TEST simulation)</td><td>0.0097    MW E(B-V)</td><td>-9.0000 +-  9.0000</td><td>105</td><td>5</td><td>0.0 .. 0.0</td><td>100.92599999999948</td><td>28</td></tr>\n",
       "<tr><td>DES_SN199836.DAT</td><td>DES</td><td>199836</td><td>-9</td><td>griz</td><td>0.500000  deg</td><td>-43.000000  deg</td><td>3   (=&gt; BLIND-TEST simulation)</td><td>0.0111    MW E(B-V)</td><td>-9.0000 +-  9.0000</td><td>8</td><td>5</td><td>0.0 .. 0.0</td><td>12.992000000005646</td><td>3</td></tr>\n",
       "<tr><td>DES_SN199840.DAT</td><td>DES</td><td>199840</td><td>-9</td><td>griz</td><td>52.500000  deg</td><td>-27.500000  deg</td><td>3   (=&gt; BLIND-TEST simulation)</td><td>0.0097    MW E(B-V)</td><td>-9.0000 +-  9.0000</td><td>63</td><td>5</td><td>0.0 .. 0.0</td><td>93.06299999999464</td><td>18</td></tr>\n",
       "<tr><td>DES_SN199843.DAT</td><td>DES</td><td>199843</td><td>-9</td><td>griz</td><td>36.750000  deg</td><td>-4.500000  deg</td><td>3   (=&gt; BLIND-TEST simulation)</td><td>0.0283    MW E(B-V)</td><td>-9.0000 +-  9.0000</td><td>110</td><td>5</td><td>0.0 .. 0.0</td><td>155.88300000000163</td><td>38</td></tr>\n",
       "<tr><td>DES_SN199863.DAT</td><td>DES</td><td>199863</td><td>-9</td><td>griz</td><td>34.500000  deg</td><td>-5.500000  deg</td><td>3   (=&gt; BLIND-TEST simulation)</td><td>0.0227    MW E(B-V)</td><td>-9.0000 +-  9.0000</td><td>100</td><td>5</td><td>0.0 .. 0.0</td><td>113.98099999999977</td><td>35</td></tr>\n",
       "<tr><td>DES_SN199866.DAT</td><td>DES</td><td>199866</td><td>-9</td><td>griz</td><td>36.750000  deg</td><td>-4.500000  deg</td><td>3   (=&gt; BLIND-TEST simulation)</td><td>0.0283    MW E(B-V)</td><td>-9.0000 +-  9.0000</td><td>57</td><td>5</td><td>0.0 .. 0.0</td><td>105.96899999999732</td><td>27</td></tr>\n",
       "<tr><td>DES_SN199900.DAT</td><td>DES</td><td>199900</td><td>-9</td><td>griz</td><td>52.500000  deg</td><td>-27.500000  deg</td><td>3   (=&gt; BLIND-TEST simulation)</td><td>0.0097    MW E(B-V)</td><td>-9.0000 +-  9.0000</td><td>117</td><td>5</td><td>0.0 .. 0.0</td><td>123.03899999999703</td><td>32</td></tr>\n",
       "<tr><td>DES_SN199953.DAT</td><td>DES</td><td>199953</td><td>-9</td><td>griz</td><td>34.500000  deg</td><td>-5.500000  deg</td><td>3   (=&gt; BLIND-TEST simulation)</td><td>0.0227    MW E(B-V)</td><td>-9.0000 +-  9.0000</td><td>120</td><td>5</td><td>0.0 .. 0.0</td><td>139.89400000000023</td><td>40</td></tr>\n",
       "<tr><td>DES_SN199968.DAT</td><td>DES</td><td>199968</td><td>-9</td><td>griz</td><td>48.000000  deg</td><td>0.000000  deg</td><td>3   (=&gt; BLIND-TEST simulation)</td><td>0.0713    MW E(B-V)</td><td>-9.0000 +-  9.0000</td><td>109</td><td>5</td><td>0.0 .. 0.0</td><td>150.7890000000043</td><td>39</td></tr>\n",
       "</table>"
      ],
      "text/plain": [
       "<Table length=18347>\n",
       "    FILENAME      SURVEY     SNID     ...     obs_length     num_data_points\n",
       "    bytes16       bytes7   bytes12    ...      float64            int64     \n",
       "---------------- ------- ------------ ... ------------------ ---------------\n",
       "DES_SN000018.DAT DES   \n",
       "       18   \n",
       " ...  145.8949999999968              41\n",
       "DES_SN000050.DAT DES   \n",
       "       50   \n",
       " ...  30.93000000000029               9\n",
       "DES_SN000051.DAT DES   \n",
       "       51   \n",
       " ... 126.88300000000163              33\n",
       "DES_SN000063.DAT DES   \n",
       "       63   \n",
       " ...  127.9409999999989              37\n",
       "DES_SN000064.DAT DES   \n",
       "       64   \n",
       " ... 117.89800000000105              31\n",
       "DES_SN000096.DAT DES   \n",
       "       96   \n",
       " ... 119.87900000000081              37\n",
       "DES_SN000122.DAT DES   \n",
       "      122   \n",
       " ...  17.95300000000134               7\n",
       "DES_SN000124.DAT DES   \n",
       "      124   \n",
       " ... 113.96500000000378              34\n",
       "DES_SN000156.DAT DES   \n",
       "      156   \n",
       " ...   96.0309999999954              25\n",
       "DES_SN000177.DAT DES   \n",
       "      177   \n",
       " ...   83.0150000000067              22\n",
       "             ...     ...          ... ...                ...             ...\n",
       "DES_SN199804.DAT DES   \n",
       "   199804   \n",
       " ... 159.85499999999593              41\n",
       "DES_SN199809.DAT DES   \n",
       "   199809   \n",
       " ... 100.92599999999948              28\n",
       "DES_SN199836.DAT DES   \n",
       "   199836   \n",
       " ... 12.992000000005646               3\n",
       "DES_SN199840.DAT DES   \n",
       "   199840   \n",
       " ...  93.06299999999464              18\n",
       "DES_SN199843.DAT DES   \n",
       "   199843   \n",
       " ... 155.88300000000163              38\n",
       "DES_SN199863.DAT DES   \n",
       "   199863   \n",
       " ... 113.98099999999977              35\n",
       "DES_SN199866.DAT DES   \n",
       "   199866   \n",
       " ... 105.96899999999732              27\n",
       "DES_SN199900.DAT DES   \n",
       "   199900   \n",
       " ... 123.03899999999703              32\n",
       "DES_SN199953.DAT DES   \n",
       "   199953   \n",
       " ... 139.89400000000023              40\n",
       "DES_SN199968.DAT DES   \n",
       "   199968   \n",
       " ...  150.7890000000043              39"
      ]
     },
     "execution_count": 3,
     "metadata": {},
     "output_type": "execute_result"
    }
   ],
   "source": [
    "data_table"
   ]
  },
  {
   "cell_type": "code",
   "execution_count": 18,
   "metadata": {},
   "outputs": [],
   "source": [
    "# Splitting training and testing data\n",
    "randomize_inds = range(len(data_table))\n",
    "randomize_inds = permutation(randomize_inds)\n",
    "randomized_inds_train = randomize_inds[0:15000]\n",
    "randomized_inds_test  = randomize_inds[15000:]"
   ]
  },
  {
   "cell_type": "code",
   "execution_count": 19,
   "metadata": {},
   "outputs": [],
   "source": [
    "data_table['label'] = 1.0*(data_table['SNTYPE'].astype('int') == 1)"
   ]
  },
  {
   "cell_type": "code",
   "execution_count": 20,
   "metadata": {},
   "outputs": [],
   "source": [
    "# Define input function for training \n",
    "def input_fn_train():\n",
    "    def mapping_function(x):\n",
    "        def extract_batch(inds):\n",
    "            inds = randomized_inds_train[inds]\n",
    "            return data_table['label'][inds].astype('float32'), clip(data_table['num_data_points'][inds],0,49).astype('int32'),data_table['DATA'][inds].astype('float32') \n",
    "        a,b,c =tf.py_func( extract_batch, [x], [tf.float32, tf.int32, tf.float32])\n",
    "        a.set_shape([None])\n",
    "        b.set_shape([None])\n",
    "        c.set_shape([None,50,9])\n",
    "        return a,b,c\n",
    "\n",
    "    dataset = tf.data.Dataset.range(len(randomized_inds_train))\n",
    "    dataset = dataset.repeat().shuffle(10000).batch(512)\n",
    "    dataset = dataset.map( mapping_function)\n",
    "    iterator = dataset.make_one_shot_iterator()\n",
    "    label, length, ts = iterator.get_next()\n",
    "    return  {'length':length, 'ts':ts}, label\n",
    "\n",
    "def input_fn_test():\n",
    "    def mapping_function(x):\n",
    "        def extract_batch(inds):\n",
    "            inds = randomized_inds_test[inds]\n",
    "            return data_table['label'][inds].astype('float32'), clip(data_table['num_data_points'][inds],0,49).astype('int32'),data_table['DATA'][inds].astype('float32') \n",
    "        a,b,c =tf.py_func( extract_batch, [x], [tf.float32, tf.int32, tf.float32])\n",
    "        a.set_shape([None])\n",
    "        b.set_shape([None])\n",
    "        c.set_shape([None,50,9])\n",
    "        return a,b,c\n",
    "\n",
    "    dataset = tf.data.Dataset.range(len(randomized_inds_test))\n",
    "    dataset = dataset.batch(512)\n",
    "    dataset = dataset.map( mapping_function)\n",
    "    iterator = dataset.make_one_shot_iterator()\n",
    "    label, length, ts = iterator.get_next()\n",
    "    return  {'length':length, 'ts':ts}, label"
   ]
  },
  {
   "cell_type": "code",
   "execution_count": 21,
   "metadata": {},
   "outputs": [
    {
     "name": "stdout",
     "output_type": "stream",
     "text": [
      "INFO:tensorflow:Using default config.\n",
      "INFO:tensorflow:Using config: {'_model_dir': 'tests/test_2', '_tf_random_seed': None, '_save_summary_steps': 100, '_save_checkpoints_steps': None, '_save_checkpoints_secs': 600, '_session_config': None, '_keep_checkpoint_max': 5, '_keep_checkpoint_every_n_hours': 10000, '_log_step_count_steps': 100, '_train_distribute': None, '_service': None, '_cluster_spec': <tensorflow.python.training.server_lib.ClusterSpec object at 0x123dc5978>, '_task_type': 'worker', '_task_id': 0, '_global_id_in_cluster': 0, '_master': '', '_evaluation_master': '', '_is_chief': True, '_num_ps_replicas': 0, '_num_worker_replicas': 1}\n"
     ]
    }
   ],
   "source": [
    "model = RNNClassifier(hidden_units=[128, 128], dropout=1, model_dir='tests/test_2')"
   ]
  },
  {
   "cell_type": "code",
   "execution_count": 22,
   "metadata": {},
   "outputs": [
    {
     "name": "stdout",
     "output_type": "stream",
     "text": [
      "INFO:tensorflow:Calling model_fn.\n",
      "INFO:tensorflow:Done calling model_fn.\n",
      "INFO:tensorflow:Create CheckpointSaverHook.\n",
      "INFO:tensorflow:Graph was finalized.\n",
      "INFO:tensorflow:Running local_init_op.\n",
      "INFO:tensorflow:Done running local_init_op.\n",
      "INFO:tensorflow:Saving checkpoints for 1 into tests/test_2/model.ckpt.\n",
      "INFO:tensorflow:loss = 0.73164093, step = 1\n",
      "INFO:tensorflow:global_step/sec: 0.943023\n",
      "INFO:tensorflow:loss = 0.2648023, step = 101 (106.043 sec)\n",
      "INFO:tensorflow:global_step/sec: 0.953756\n",
      "INFO:tensorflow:loss = 0.23566797, step = 201 (104.849 sec)\n",
      "INFO:tensorflow:global_step/sec: 0.960208\n",
      "INFO:tensorflow:loss = 0.22189058, step = 301 (104.144 sec)\n",
      "INFO:tensorflow:global_step/sec: 0.955527\n",
      "INFO:tensorflow:loss = 0.19149598, step = 401 (104.655 sec)\n",
      "INFO:tensorflow:global_step/sec: 0.95191\n",
      "INFO:tensorflow:loss = 0.1994014, step = 501 (105.052 sec)\n",
      "INFO:tensorflow:Saving checkpoints for 573 into tests/test_2/model.ckpt.\n",
      "INFO:tensorflow:global_step/sec: 0.958407\n",
      "INFO:tensorflow:loss = 0.17036366, step = 601 (104.340 sec)\n",
      "INFO:tensorflow:global_step/sec: 0.904148\n",
      "INFO:tensorflow:loss = 0.19361281, step = 701 (110.603 sec)\n",
      "INFO:tensorflow:global_step/sec: 0.958264\n",
      "INFO:tensorflow:loss = 0.16309658, step = 801 (104.355 sec)\n",
      "INFO:tensorflow:global_step/sec: 0.953464\n",
      "INFO:tensorflow:loss = 0.13567601, step = 901 (104.880 sec)\n",
      "INFO:tensorflow:global_step/sec: 0.940109\n",
      "INFO:tensorflow:loss = 0.15904322, step = 1001 (106.371 sec)\n",
      "INFO:tensorflow:global_step/sec: 0.946001\n",
      "INFO:tensorflow:loss = 0.17486683, step = 1101 (105.708 sec)\n",
      "INFO:tensorflow:Saving checkpoints for 1139 into tests/test_2/model.ckpt.\n",
      "INFO:tensorflow:global_step/sec: 0.947095\n",
      "INFO:tensorflow:loss = 0.19276074, step = 1201 (105.586 sec)\n",
      "INFO:tensorflow:global_step/sec: 0.961992\n",
      "INFO:tensorflow:loss = 0.14524433, step = 1301 (103.951 sec)\n",
      "INFO:tensorflow:global_step/sec: 0.946453\n",
      "INFO:tensorflow:loss = 0.15490729, step = 1401 (105.658 sec)\n",
      "INFO:tensorflow:Saving checkpoints for 1500 into tests/test_2/model.ckpt.\n",
      "INFO:tensorflow:Loss for final step: 0.18238881.\n"
     ]
    },
    {
     "data": {
      "text/plain": [
       "<rnn.RNNClassifier at 0x123dc5a90>"
      ]
     },
     "execution_count": 22,
     "metadata": {},
     "output_type": "execute_result"
    }
   ],
   "source": [
    "model.train(input_fn=input_fn_train, steps=1500)"
   ]
  },
  {
   "cell_type": "code",
   "execution_count": 14,
   "metadata": {},
   "outputs": [
    {
     "name": "stdout",
     "output_type": "stream",
     "text": [
      "INFO:tensorflow:Calling model_fn.\n",
      "INFO:tensorflow:Done calling model_fn.\n",
      "INFO:tensorflow:Graph was finalized.\n",
      "INFO:tensorflow:Restoring parameters from tests/test_1/model.ckpt-300\n",
      "INFO:tensorflow:Running local_init_op.\n",
      "INFO:tensorflow:Done running local_init_op.\n"
     ]
    }
   ],
   "source": [
    "# Apply model to test set\n",
    "test_prob = [p['prob'] for p in model.predict(input_fn_test)]\n",
    "table_test = data_table[randomized_inds_test]\n",
    "table_test['p'] = test_prob"
   ]
  },
  {
   "cell_type": "code",
   "execution_count": 42,
   "metadata": {},
   "outputs": [
    {
     "name": "stdout",
     "output_type": "stream",
     "text": [
      "0\n",
      "156\n",
      "156\n",
      "3191\n"
     ]
    }
   ],
   "source": [
    "threshold=0.45\n",
    "# Splits the testing set\n",
    "FP = (table_test['p'] > threshold) * (table_test['label'] == 0)\n",
    "FN = (table_test['p'] < threshold) * (table_test['label'] == 1)\n",
    "P = (table_test['label'] == 1)\n",
    "N = (table_test['label'] == 0)\n",
    "\n",
    "t_fp = table_test[FP]\n",
    "t_fn = table_test[FN]\n",
    "t_p = table_test[P]\n",
    "t_n = table_test[N]\n",
    "\n",
    "\n",
    "print(len(t_fp))\n",
    "print(len(t_fn))\n",
    "print(len(t_p))\n",
    "print(len(t_n))"
   ]
  }
 ],
 "metadata": {
  "kernelspec": {
   "display_name": "Python 3",
   "language": "python",
   "name": "python3"
  },
  "language_info": {
   "codemirror_mode": {
    "name": "ipython",
    "version": 3
   },
   "file_extension": ".py",
   "mimetype": "text/x-python",
   "name": "python",
   "nbconvert_exporter": "python",
   "pygments_lexer": "ipython3",
   "version": "3.6.5"
  }
 },
 "nbformat": 4,
 "nbformat_minor": 2
}
